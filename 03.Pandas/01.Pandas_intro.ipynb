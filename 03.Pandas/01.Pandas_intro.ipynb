{
 "cells": [
  {
   "cell_type": "markdown",
   "id": "1551b762-6454-4dc2-8cfe-b6ca433d81ca",
   "metadata": {},
   "source": [
    "### **What is Pandas?**\n",
    "Pandas is a Python library that works with big datasets to analyze, clean, explore, and manipulate data.\n",
    "<br> The \"Pandas\" name is derived from the term \"Panel Data,\" which is an econometrics term for multidimensional structured data sets."
   ]
  },
  {
   "cell_type": "markdown",
   "id": "a30ba44b-adce-4d76-8c09-9981c381dabb",
   "metadata": {},
   "source": [
    "As mentioned above it is a Python library, a Python package, to install it on our virtual environment, type in the terminal:\n",
    "<br>pip install pandas"
   ]
  },
  {
   "cell_type": "markdown",
   "id": "68a2ed89-a4a2-457f-be71-108c9f92ccb2",
   "metadata": {},
   "source": [
    "\"pandas\" is built on top of \"NumPy\" and is intended to integrate well within a scientific computing environment with many other 3rd party libraries,\n",
    "which means \"pandas\" can be used in numerical analysis, machine learning, data visualization, and more, thus, 3rd party libraries such as NumPy, SciPy, Matplotlib, and others are commonly used with pandas."
   ]
  },
  {
   "cell_type": "markdown",
   "id": "c2fb4383-b1d7-4bd9-8082-d0f93b6be6f9",
   "metadata": {},
   "source": [
    "To work with pandas we need to import the pandas module:"
   ]
  },
  {
   "cell_type": "code",
   "execution_count": 1,
   "id": "44b4d0f3-9cd8-4216-a093-25fec41101b1",
   "metadata": {},
   "outputs": [],
   "source": [
    "import pandas as pd\n",
    "import numpy as np"
   ]
  },
  {
   "cell_type": "markdown",
   "id": "031c87bf-10ad-486d-94c9-43a17e80e49d",
   "metadata": {},
   "source": [
    "### **Series:**"
   ]
  },
  {
   "cell_type": "markdown",
   "id": "97c6310d-77e8-4f84-bec4-d910f883f1c5",
   "metadata": {},
   "source": [
    "A Series is the same as one column in table, it is a single array, that can have numerical, categorical, timestamp, etc."
   ]
  },
  {
   "cell_type": "markdown",
   "id": "32a3ae8a-0c08-49e7-b115-960cd9abd713",
   "metadata": {},
   "source": [
    "Let's create a series"
   ]
  },
  {
   "cell_type": "code",
   "execution_count": 2,
   "id": "9dedd2fb-a782-441c-87ac-c914cbed3fd3",
   "metadata": {},
   "outputs": [
    {
     "name": "stdout",
     "output_type": "stream",
     "text": [
      "name            orange\n",
      "weight_kg           25\n",
      "price_per_kg       1.5\n",
      "dtype: object\n"
     ]
    }
   ],
   "source": [
    "one_fruit = {\n",
    "    \"name\": \"orange\",\n",
    "    \"weight_kg\": 25,\n",
    "    \"price_per_kg\": 1.5,\n",
    "}\n",
    "\n",
    "fruit_series = pd.Series(one_fruit)\n",
    "\n",
    "print(fruit_series)"
   ]
  },
  {
   "cell_type": "code",
   "execution_count": 3,
   "id": "6723d159-212b-4d28-ba51-9e9731f166e8",
   "metadata": {},
   "outputs": [
    {
     "name": "stdout",
     "output_type": "stream",
     "text": [
      "name            orange\n",
      "weight_kg           25\n",
      "price_per_kg       1.5\n",
      "dtype: object\n"
     ]
    }
   ],
   "source": [
    "# Using the index parameter:\n",
    "one_fruit = {\n",
    "    \"name\": \"orange\",\n",
    "    \"weight_kg\": 25,\n",
    "    \"price_per_kg\": 1.5,\n",
    "}\n",
    "\n",
    "fruit_series = pd.Series(one_fruit, index=[\"name\", \"weight_kg\", \"price_per_kg\"])\n",
    "\n",
    "print(fruit_series)"
   ]
  },
  {
   "cell_type": "code",
   "execution_count": 4,
   "id": "20f07037-7c2e-4de4-9e75-87dcd977475d",
   "metadata": {},
   "outputs": [
    {
     "name": "stdout",
     "output_type": "stream",
     "text": [
      "name_fruit    NaN\n",
      "weight        NaN\n",
      "price         NaN\n",
      "dtype: object\n"
     ]
    }
   ],
   "source": [
    "# If the names in the index parameter are different frome the dictionay keys,\n",
    "# the values will be NaN:\n",
    "one_fruit = {\n",
    "    \"name\": \"orange\",\n",
    "    \"weight_kg\": 25,\n",
    "    \"price_per_kg\": 1.5,\n",
    "}\n",
    "\n",
    "fruit_series = pd.Series(one_fruit, index=[\"name_fruit\", \"weight\", \"price\"])\n",
    "\n",
    "print(fruit_series)"
   ]
  },
  {
   "cell_type": "code",
   "execution_count": 5,
   "id": "9ac73f0a-73a6-4e40-8b44-ca43899bd2a6",
   "metadata": {},
   "outputs": [
    {
     "name": "stdout",
     "output_type": "stream",
     "text": [
      "name            orange\n",
      "weight_kg           25\n",
      "price_per_kg       1.5\n",
      "Name: fruit, dtype: object\n"
     ]
    }
   ],
   "source": [
    "# Using the name parameter to give the series a name:\n",
    "one_fruit = {\n",
    "    \"name\": \"orange\",\n",
    "    \"weight_kg\": 25,\n",
    "    \"price_per_kg\": 1.5,\n",
    "}\n",
    "\n",
    "fruit_series = pd.Series(one_fruit, name=\"fruit\")\n",
    "\n",
    "print(fruit_series)"
   ]
  },
  {
   "cell_type": "markdown",
   "id": "f1272426-9885-436d-94d0-19d98444e83e",
   "metadata": {},
   "source": [
    "As shown above the series dtype is an object, because the series has string and floats."
   ]
  },
  {
   "cell_type": "code",
   "execution_count": 6,
   "id": "153975ca-67ad-42a8-9534-5927b8ce1343",
   "metadata": {},
   "outputs": [
    {
     "name": "stdout",
     "output_type": "stream",
     "text": [
      "a    1\n",
      "b    2\n",
      "c    3\n",
      "dtype: int64\n"
     ]
    }
   ],
   "source": [
    "# Using a list to create a series:\n",
    "num_list = [1, 2, 3]\n",
    "\n",
    "numbers_list = pd.Series(num_list, index=[\"a\", \"b\", \"c\"])\n",
    "\n",
    "print(numbers_list)"
   ]
  },
  {
   "cell_type": "code",
   "execution_count": 7,
   "id": "11118c00-5642-482b-953c-9b583ea4e0e5",
   "metadata": {},
   "outputs": [
    {
     "name": "stdout",
     "output_type": "stream",
     "text": [
      "a    4.4\n",
      "b    5.2\n",
      "c    6.2\n",
      "dtype: float64\n"
     ]
    }
   ],
   "source": [
    "# Using a 1-D array to create a series:\n",
    "num_array = np.array([4.4, 5.2, 6.2])\n",
    "\n",
    "numbers_array = pd.Series(num_array, index=[\"a\", \"b\", \"c\"])\n",
    "\n",
    "print(numbers_array)"
   ]
  },
  {
   "cell_type": "code",
   "execution_count": 8,
   "id": "7a24db73-365d-4e3c-b461-b19fa92651d9",
   "metadata": {},
   "outputs": [
    {
     "name": "stdout",
     "output_type": "stream",
     "text": [
      "a     Tom\n",
      "b    Mary\n",
      "c    John\n",
      "dtype: object\n"
     ]
    }
   ],
   "source": [
    "# If the Series items are strings the dtype is an object.\n",
    "names_list = [\"Tom\", \"Mary\", \"John\"]\n",
    "\n",
    "names_series = pd.Series(names_list, index=[\"a\", \"b\", \"c\"])\n",
    "\n",
    "print(names_series)"
   ]
  },
  {
   "cell_type": "markdown",
   "id": "4df5f0f6-25c9-4851-844c-f17a2ce03580",
   "metadata": {},
   "source": [
    "### **DataFrame:**"
   ]
  },
  {
   "cell_type": "markdown",
   "id": "f1dcda6e-e32f-44c4-9013-49cef6d0c0c6",
   "metadata": {},
   "source": [
    "A DataFrame is a two-dimensional, size-mutable, potentially heterogeneous tabular data structure, which means the data table can have numerical, categorical, timestamp, etc.\n",
    "<br>It is similar to an Excel sheet or SQL table."
   ]
  },
  {
   "cell_type": "markdown",
   "id": "92d56597-ecc9-4071-8684-75a9f7c10b90",
   "metadata": {},
   "source": [
    "Let's create a DataFrame:"
   ]
  },
  {
   "cell_type": "code",
   "execution_count": 9,
   "id": "b8840ded-0ae6-45f0-ae83-9d4d427fc2e1",
   "metadata": {},
   "outputs": [],
   "source": [
    "import pandas as pd\n",
    "import numpy as np"
   ]
  },
  {
   "cell_type": "code",
   "execution_count": 10,
   "id": "dce2ad48-2f1d-4cc4-a6e0-532b4aac75f2",
   "metadata": {},
   "outputs": [],
   "source": [
    "# We will use the DataFrame class\n",
    "data_fruits = {\n",
    "    \"name\": [\"orange\", \"apple\", \"banana\", \"pear\", \"cherry\"],\n",
    "    \"weight_kg\": [25, 34, 20, 37, 30],\n",
    "    \"price_per_kg\": [1.5, 2.3, 1.24, 2.3, 2.6]\n",
    "}\n",
    "# As shown the data is heterogeneous"
   ]
  },
  {
   "cell_type": "code",
   "execution_count": 11,
   "id": "fa4a3136-5151-4935-82e2-836828713f3b",
   "metadata": {},
   "outputs": [
    {
     "name": "stdout",
     "output_type": "stream",
     "text": [
      "     name  weight_kg  price_per_kg\n",
      "0  orange         25          1.50\n",
      "1   apple         34          2.30\n",
      "2  banana         20          1.24\n",
      "3    pear         37          2.30\n",
      "4  cherry         30          2.60\n"
     ]
    }
   ],
   "source": [
    "df_fruits = pd.DataFrame(data=data_fruits)\n",
    "\n",
    "print(df_fruits)"
   ]
  },
  {
   "cell_type": "code",
   "execution_count": 12,
   "id": "850e3b6e-7dad-4049-92c5-5272e9c9ffd6",
   "metadata": {},
   "outputs": [
    {
     "name": "stdout",
     "output_type": "stream",
     "text": [
      "name             object\n",
      "weight_kg         int64\n",
      "price_per_kg    float64\n",
      "dtype: object\n"
     ]
    }
   ],
   "source": [
    "# Use the \"dtypes\" property:\n",
    "print(df_fruits.dtypes)"
   ]
  },
  {
   "cell_type": "markdown",
   "id": "69f0293c-1483-456d-847e-d4effbeb9a4e",
   "metadata": {},
   "source": [
    "As shown above, the \"name\" data type is \"object\", in pandas the strings and boolean datatype is an \"object\".\n",
    "<br> The DataFrame datatype is an object if it has different datatypes."
   ]
  },
  {
   "cell_type": "code",
   "execution_count": 13,
   "id": "063e2a48-0893-4d62-8058-6833125d778c",
   "metadata": {},
   "outputs": [
    {
     "name": "stdout",
     "output_type": "stream",
     "text": [
      "   integers  floats\n",
      "0        33     NaN\n",
      "1        44     NaN\n",
      "2        51     5.9\n",
      "3        93     2.6\n"
     ]
    }
   ],
   "source": [
    "# Creating DataFrame using Series using the index parameter to specify the data rows:\n",
    "data = {'integers': [33, 44, 51, 93], 'floats': pd.Series([5.9, 2.6], index=[2, 3])}\n",
    "\n",
    "# df_data = pd.DataFrame(data, index=[1, 2, 3, 4])\n",
    "df_data = pd.DataFrame(data, index=[0, 1, 2, 3])\n",
    "\n",
    "print(df_data)"
   ]
  },
  {
   "cell_type": "markdown",
   "id": "c3dcc435-e110-45da-a567-5ad91948b65e",
   "metadata": {},
   "source": [
    "### **Different Data Types**"
   ]
  },
  {
   "cell_type": "code",
   "execution_count": 14,
   "id": "f9dff257-de1e-49d6-ae13-3cc5524ab513",
   "metadata": {},
   "outputs": [],
   "source": [
    "import pandas as pd\n",
    "import numpy as np"
   ]
  },
  {
   "cell_type": "code",
   "execution_count": 15,
   "id": "1e56a313-2fc2-457d-b495-c2164d975c06",
   "metadata": {},
   "outputs": [
    {
     "name": "stdout",
     "output_type": "stream",
     "text": [
      "ints                 float64\n",
      "floats               float64\n",
      "bools                 object\n",
      "dates         datetime64[ns]\n",
      "categories          category\n",
      "strings               object\n",
      "dtype: object\n"
     ]
    }
   ],
   "source": [
    "# Create DataFrame with different data types:\n",
    "diff_dtypes_df = pd.DataFrame({\n",
    "    'ints': [3, None, 4],  # Becomes Float64 due to NaN unless specified as Int64\n",
    "    'floats': [2.5, 9.1, None],\n",
    "    'bools': [True, None, False],\n",
    "    'dates': pd.to_datetime([\"2024-02-12\", None, \"2025-02-01\"]), # Use the \"to_datatime\" function to convert the data to dates and times.\n",
    "    'categories': pd.Categorical([\"M\", \"F\", \"M\"]), # Use the \"Categorical\" class to convert the data to categorical data. \n",
    "    'strings': [\"Tom\", \"Mary\", None]\n",
    "})\n",
    "\n",
    "print(diff_dtypes_df.dtypes)"
   ]
  },
  {
   "cell_type": "code",
   "execution_count": 16,
   "id": "d13b58bf-a489-4bd0-9668-61bca1d0d964",
   "metadata": {},
   "outputs": [
    {
     "name": "stdout",
     "output_type": "stream",
     "text": [
      "   ints  floats  bools      dates categories strings\n",
      "0   3.0     2.5   True 2024-02-12          M     Tom\n",
      "1   NaN     9.1   None        NaT          F    Mary\n",
      "2   4.0     NaN  False 2025-02-01          M    None\n"
     ]
    }
   ],
   "source": [
    "print(diff_dtypes_df)"
   ]
  },
  {
   "cell_type": "code",
   "execution_count": 17,
   "id": "0904afe9-7957-4b05-a0b7-e79840512aa6",
   "metadata": {},
   "outputs": [
    {
     "name": "stdout",
     "output_type": "stream",
     "text": [
      "ints                   Int32\n",
      "floats               float64\n",
      "bools                boolean\n",
      "dates         datetime64[ns]\n",
      "categories          category\n",
      "strings       string[python]\n",
      "dtype: object\n",
      "\n",
      "   ints  floats  bools      dates categories strings\n",
      "0     3     2.5   True 2024-02-12          M     Tom\n",
      "1  <NA>     9.1   <NA>        NaT          F    Mary\n",
      "2     4     NaN  False 2025-02-01          M    <NA>\n"
     ]
    }
   ],
   "source": [
    "# To change the strings and bools columns from object to string and boolean data type\n",
    "# and change the \"ints\" column to integer:\n",
    "diff_dtypes_df = pd.DataFrame({\n",
    "    'ints': [3, None, 4],  # Becomes Float64 due to NaN unless specified as Int64\n",
    "    'floats': [2.5, 9.1, None],\n",
    "    'bools': [True, None, False],\n",
    "    'dates': pd.to_datetime([\"2024-02-12\", None, \"2025-02-01\"]),\n",
    "    'categories': pd.Categorical([\"M\", \"F\", \"M\"]),\n",
    "    'strings': [\"Tom\", \"Mary\", None],\n",
    "})\n",
    "\n",
    "# Get each column separately same as dictionaries:\n",
    "diff_dtypes_df[\"ints\"] = diff_dtypes_df[\"ints\"].astype(\"Int32\")\n",
    "diff_dtypes_df[\"bools\"] = diff_dtypes_df[\"bools\"].astype(\"boolean\")\n",
    "diff_dtypes_df[\"strings\"] = diff_dtypes_df[\"strings\"].astype(\"string\")\n",
    "\n",
    "print(diff_dtypes_df.dtypes)\n",
    "print()\n",
    "print(diff_dtypes_df)"
   ]
  },
  {
   "cell_type": "markdown",
   "id": "6ff3695a-5264-4580-84d1-11201d41c6b7",
   "metadata": {},
   "source": [
    "### **\"iloc\" and \"loc\" Properties:**\n",
    "To get specific data from a DataFrame, we use the following properties:\n",
    "<br>1.***iloc*** property is an integer location based on indexing.\n",
    "<br>2.***loc*** property is used to access a group of rows and columns by label(s). "
   ]
  },
  {
   "cell_type": "code",
   "execution_count": 18,
   "id": "4c0247cb-b007-46ac-9a0f-f698d15f6b31",
   "metadata": {},
   "outputs": [
    {
     "data": {
      "text/plain": [
       "ints          <NA>\n",
       "floats         9.1\n",
       "bools         <NA>\n",
       "dates          NaT\n",
       "categories       F\n",
       "strings       Mary\n",
       "Name: 1, dtype: object"
      ]
     },
     "execution_count": 18,
     "metadata": {},
     "output_type": "execute_result"
    }
   ],
   "source": [
    "# let's take an example \"iloc\":\n",
    "# To get a specific row from \"diff_dtypes_df\", let's say the 2nd row:\n",
    "diff_dtypes_df.iloc[1]"
   ]
  },
  {
   "cell_type": "code",
   "execution_count": 19,
   "id": "a686782c-255c-40a5-ada2-09efcb604536",
   "metadata": {},
   "outputs": [
    {
     "data": {
      "text/plain": [
       "0     Tom\n",
       "1    Mary\n",
       "2    <NA>\n",
       "Name: strings, dtype: string"
      ]
     },
     "execution_count": 19,
     "metadata": {},
     "output_type": "execute_result"
    }
   ],
   "source": [
    "# To get a specific column from \"diff_dtypes_df\", let's say the \"strings\" column:\n",
    "diff_dtypes_df.iloc[:, 5]"
   ]
  },
  {
   "cell_type": "code",
   "execution_count": 20,
   "id": "6bbd06a6-4b32-4a4d-a639-ba9a1ab78939",
   "metadata": {},
   "outputs": [
    {
     "data": {
      "text/plain": [
       "'M'"
      ]
     },
     "execution_count": 20,
     "metadata": {},
     "output_type": "execute_result"
    }
   ],
   "source": [
    "# To get a specific value from \"diff_dtypes_df\", let's say the 3rd row (index 2) and the \"categories\" (index 4):\n",
    "diff_dtypes_df.iloc[2,4]"
   ]
  },
  {
   "cell_type": "code",
   "execution_count": 21,
   "id": "aa82bfe9-83c3-4275-8b52-aab5dff30c59",
   "metadata": {},
   "outputs": [
    {
     "data": {
      "text/html": [
       "<div>\n",
       "<style scoped>\n",
       "    .dataframe tbody tr th:only-of-type {\n",
       "        vertical-align: middle;\n",
       "    }\n",
       "\n",
       "    .dataframe tbody tr th {\n",
       "        vertical-align: top;\n",
       "    }\n",
       "\n",
       "    .dataframe thead th {\n",
       "        text-align: right;\n",
       "    }\n",
       "</style>\n",
       "<table border=\"1\" class=\"dataframe\">\n",
       "  <thead>\n",
       "    <tr style=\"text-align: right;\">\n",
       "      <th></th>\n",
       "      <th>dates</th>\n",
       "      <th>categories</th>\n",
       "    </tr>\n",
       "  </thead>\n",
       "  <tbody>\n",
       "    <tr>\n",
       "      <th>1</th>\n",
       "      <td>NaT</td>\n",
       "      <td>F</td>\n",
       "    </tr>\n",
       "    <tr>\n",
       "      <th>2</th>\n",
       "      <td>2025-02-01</td>\n",
       "      <td>M</td>\n",
       "    </tr>\n",
       "  </tbody>\n",
       "</table>\n",
       "</div>"
      ],
      "text/plain": [
       "       dates categories\n",
       "1        NaT          F\n",
       "2 2025-02-01          M"
      ]
     },
     "execution_count": 21,
     "metadata": {},
     "output_type": "execute_result"
    }
   ],
   "source": [
    "# You can do slicing:\n",
    "diff_dtypes_df.iloc[1:3,3:5]"
   ]
  },
  {
   "cell_type": "markdown",
   "id": "3d416b95-773d-4eae-8d85-d1a6fb8cb4d5",
   "metadata": {},
   "source": [
    "The same Python slicing and indexing rules apply to pandas.\n",
    "<br>Check the Python indexing and slicing video:\n",
    "<br>https://youtu.be/e97_5Y_VMZk"
   ]
  },
  {
   "cell_type": "code",
   "execution_count": 22,
   "id": "b33c57e4-7728-44ba-838b-328c68e7e3d7",
   "metadata": {},
   "outputs": [],
   "source": [
    "import pandas as pd\n",
    "import numpy as np"
   ]
  },
  {
   "cell_type": "code",
   "execution_count": 23,
   "id": "ca3281d6-4684-4f5d-b75e-bc019cf1d8e9",
   "metadata": {},
   "outputs": [
    {
     "name": "stdout",
     "output_type": "stream",
     "text": [
      "       ints  floats  bools      dates categories strings\n",
      "data1   3.0     2.5   True 2024-02-12          M     Tom\n",
      "data2   NaN     9.1   None        NaT          F    Mary\n",
      "data3   4.0     NaN  False 2025-02-01          M    None\n"
     ]
    }
   ],
   "source": [
    "diff_dtypes = pd.DataFrame({\n",
    "    'ints': [3, None, 4],\n",
    "    'floats': [2.5, 9.1, None],\n",
    "    'bools': [True, None, False],\n",
    "    'dates': pd.to_datetime([\"2024-02-12\", None, \"2025-02-01\"]),\n",
    "    'categories': pd.Categorical([\"M\", \"F\", \"M\"]),\n",
    "    'strings': [\"Tom\", \"Mary\", None],\n",
    "}, index=[\"data1\", \"data2\", \"data3\"])\n",
    "\n",
    "print(diff_dtypes)"
   ]
  },
  {
   "cell_type": "code",
   "execution_count": 24,
   "id": "d050c5be-4378-4b7c-b71f-1880bc31a98a",
   "metadata": {},
   "outputs": [
    {
     "data": {
      "text/plain": [
       "ints                          3.0\n",
       "floats                        2.5\n",
       "bools                        True\n",
       "dates         2024-02-12 00:00:00\n",
       "categories                      M\n",
       "strings                       Tom\n",
       "Name: data1, dtype: object"
      ]
     },
     "execution_count": 24,
     "metadata": {},
     "output_type": "execute_result"
    }
   ],
   "source": [
    "# let's take an example \"loc\":\n",
    "# To get a specific row from \"diff_dtypes_df\", let's say the 2nd row:\n",
    "diff_dtypes.loc[\"data1\"]"
   ]
  },
  {
   "cell_type": "code",
   "execution_count": 25,
   "id": "828c513f-898a-4b75-82ee-af2c52c9e85b",
   "metadata": {},
   "outputs": [
    {
     "data": {
      "text/plain": [
       "data1     Tom\n",
       "data2    Mary\n",
       "data3    None\n",
       "Name: strings, dtype: object"
      ]
     },
     "execution_count": 25,
     "metadata": {},
     "output_type": "execute_result"
    }
   ],
   "source": [
    "# To get a specific column from \"diff_dtypes_df\", let's say the \"strings\" column:\n",
    "diff_dtypes.loc[:, \"strings\"]"
   ]
  },
  {
   "cell_type": "code",
   "execution_count": 26,
   "id": "923981ed-a5d4-43ac-b1b4-a7c60d8aeef7",
   "metadata": {},
   "outputs": [
    {
     "data": {
      "text/plain": [
       "'M'"
      ]
     },
     "execution_count": 26,
     "metadata": {},
     "output_type": "execute_result"
    }
   ],
   "source": [
    "# To get a specific value from \"diff_dtypes_df\", let's say the 3rd row (index 2) and the \"categories\" (index 4):\n",
    "diff_dtypes.loc[\"data3\", \"categories\"]"
   ]
  },
  {
   "cell_type": "code",
   "execution_count": 27,
   "id": "a14f737e-147b-45b5-b3d2-0644607abc26",
   "metadata": {},
   "outputs": [
    {
     "data": {
      "text/html": [
       "<div>\n",
       "<style scoped>\n",
       "    .dataframe tbody tr th:only-of-type {\n",
       "        vertical-align: middle;\n",
       "    }\n",
       "\n",
       "    .dataframe tbody tr th {\n",
       "        vertical-align: top;\n",
       "    }\n",
       "\n",
       "    .dataframe thead th {\n",
       "        text-align: right;\n",
       "    }\n",
       "</style>\n",
       "<table border=\"1\" class=\"dataframe\">\n",
       "  <thead>\n",
       "    <tr style=\"text-align: right;\">\n",
       "      <th></th>\n",
       "      <th>dates</th>\n",
       "      <th>categories</th>\n",
       "    </tr>\n",
       "  </thead>\n",
       "  <tbody>\n",
       "    <tr>\n",
       "      <th>data2</th>\n",
       "      <td>NaT</td>\n",
       "      <td>F</td>\n",
       "    </tr>\n",
       "    <tr>\n",
       "      <th>data3</th>\n",
       "      <td>2025-02-01</td>\n",
       "      <td>M</td>\n",
       "    </tr>\n",
       "  </tbody>\n",
       "</table>\n",
       "</div>"
      ],
      "text/plain": [
       "           dates categories\n",
       "data2        NaT          F\n",
       "data3 2025-02-01          M"
      ]
     },
     "execution_count": 27,
     "metadata": {},
     "output_type": "execute_result"
    }
   ],
   "source": [
    "# You can do slicing:\n",
    "diff_dtypes.loc[\"data2\": \"data3\", \"dates\": \"categories\"]"
   ]
  },
  {
   "cell_type": "code",
   "execution_count": 28,
   "id": "3390bd53-996a-4790-9404-1b18104a9949",
   "metadata": {},
   "outputs": [
    {
     "name": "stdout",
     "output_type": "stream",
     "text": [
      "   ints  floats  bools      dates categories strings\n",
      "0   3.0     2.5   True 2024-02-12          M     Tom\n",
      "1   NaN     9.1   None        NaT          F    Mary\n",
      "2   4.0     NaN  False 2025-02-01          M    None\n"
     ]
    }
   ],
   "source": [
    "# If the rows' indices are numbers, as shown below:\n",
    "diff_dtypes_df = pd.DataFrame({\n",
    "    'ints': [3, None, 4],  # Becomes Float64 due to NaN unless specified as Int64\n",
    "    'floats': [2.5, 9.1, None],\n",
    "    'bools': [True, None, False],\n",
    "    'dates': pd.to_datetime([\"2024-02-12\", None, \"2025-02-01\"]),\n",
    "    'categories': pd.Categorical([\"M\", \"F\", \"M\"]),\n",
    "    'strings': [\"Tom\", \"Mary\", None],\n",
    "})\n",
    "\n",
    "print(diff_dtypes_df)"
   ]
  },
  {
   "cell_type": "code",
   "execution_count": 29,
   "id": "5052d1d2-0ea1-4aaf-9cfb-f30443961aa1",
   "metadata": {},
   "outputs": [
    {
     "data": {
      "text/html": [
       "<div>\n",
       "<style scoped>\n",
       "    .dataframe tbody tr th:only-of-type {\n",
       "        vertical-align: middle;\n",
       "    }\n",
       "\n",
       "    .dataframe tbody tr th {\n",
       "        vertical-align: top;\n",
       "    }\n",
       "\n",
       "    .dataframe thead th {\n",
       "        text-align: right;\n",
       "    }\n",
       "</style>\n",
       "<table border=\"1\" class=\"dataframe\">\n",
       "  <thead>\n",
       "    <tr style=\"text-align: right;\">\n",
       "      <th></th>\n",
       "      <th>dates</th>\n",
       "      <th>categories</th>\n",
       "    </tr>\n",
       "  </thead>\n",
       "  <tbody>\n",
       "    <tr>\n",
       "      <th>1</th>\n",
       "      <td>NaT</td>\n",
       "      <td>F</td>\n",
       "    </tr>\n",
       "    <tr>\n",
       "      <th>2</th>\n",
       "      <td>2025-02-01</td>\n",
       "      <td>M</td>\n",
       "    </tr>\n",
       "  </tbody>\n",
       "</table>\n",
       "</div>"
      ],
      "text/plain": [
       "       dates categories\n",
       "1        NaT          F\n",
       "2 2025-02-01          M"
      ]
     },
     "execution_count": 29,
     "metadata": {},
     "output_type": "execute_result"
    }
   ],
   "source": [
    "# You can use numbers and strings with the \"loc\" property:\n",
    "diff_dtypes_df.loc[1: 3, \"dates\": \"categories\"]"
   ]
  },
  {
   "cell_type": "code",
   "execution_count": 30,
   "id": "b7418dea-0fb7-4645-9866-8f9c6f3240b0",
   "metadata": {},
   "outputs": [
    {
     "ename": "TypeError",
     "evalue": "cannot do positional indexing on Index with these indexers [dates] of type str",
     "output_type": "error",
     "traceback": [
      "\u001b[1;31m---------------------------------------------------------------------------\u001b[0m",
      "\u001b[1;31mTypeError\u001b[0m                                 Traceback (most recent call last)",
      "Cell \u001b[1;32mIn[30], line 2\u001b[0m\n\u001b[0;32m      1\u001b[0m \u001b[38;5;66;03m# You can not use strings with the \"iloc\" property:\u001b[39;00m\n\u001b[1;32m----> 2\u001b[0m \u001b[43mdiff_dtypes\u001b[49m\u001b[38;5;241;43m.\u001b[39;49m\u001b[43miloc\u001b[49m\u001b[43m[\u001b[49m\u001b[38;5;241;43m1\u001b[39;49m\u001b[43m:\u001b[49m\u001b[43m \u001b[49m\u001b[38;5;241;43m3\u001b[39;49m\u001b[43m,\u001b[49m\u001b[43m \u001b[49m\u001b[38;5;124;43m\"\u001b[39;49m\u001b[38;5;124;43mdates\u001b[39;49m\u001b[38;5;124;43m\"\u001b[39;49m\u001b[43m:\u001b[49m\u001b[43m \u001b[49m\u001b[38;5;124;43m\"\u001b[39;49m\u001b[38;5;124;43mcategories\u001b[39;49m\u001b[38;5;124;43m\"\u001b[39;49m\u001b[43m]\u001b[49m\n",
      "File \u001b[1;32m~\\OneDrive\\data_science\\Ruba_courses\\ML_Course\\Learn_ML\\venvML\\Lib\\site-packages\\pandas\\core\\indexing.py:1184\u001b[0m, in \u001b[0;36m_LocationIndexer.__getitem__\u001b[1;34m(self, key)\u001b[0m\n\u001b[0;32m   1182\u001b[0m     \u001b[38;5;28;01mif\u001b[39;00m \u001b[38;5;28mself\u001b[39m\u001b[38;5;241m.\u001b[39m_is_scalar_access(key):\n\u001b[0;32m   1183\u001b[0m         \u001b[38;5;28;01mreturn\u001b[39;00m \u001b[38;5;28mself\u001b[39m\u001b[38;5;241m.\u001b[39mobj\u001b[38;5;241m.\u001b[39m_get_value(\u001b[38;5;241m*\u001b[39mkey, takeable\u001b[38;5;241m=\u001b[39m\u001b[38;5;28mself\u001b[39m\u001b[38;5;241m.\u001b[39m_takeable)\n\u001b[1;32m-> 1184\u001b[0m     \u001b[38;5;28;01mreturn\u001b[39;00m \u001b[38;5;28;43mself\u001b[39;49m\u001b[38;5;241;43m.\u001b[39;49m\u001b[43m_getitem_tuple\u001b[49m\u001b[43m(\u001b[49m\u001b[43mkey\u001b[49m\u001b[43m)\u001b[49m\n\u001b[0;32m   1185\u001b[0m \u001b[38;5;28;01melse\u001b[39;00m:\n\u001b[0;32m   1186\u001b[0m     \u001b[38;5;66;03m# we by definition only have the 0th axis\u001b[39;00m\n\u001b[0;32m   1187\u001b[0m     axis \u001b[38;5;241m=\u001b[39m \u001b[38;5;28mself\u001b[39m\u001b[38;5;241m.\u001b[39maxis \u001b[38;5;129;01mor\u001b[39;00m \u001b[38;5;241m0\u001b[39m\n",
      "File \u001b[1;32m~\\OneDrive\\data_science\\Ruba_courses\\ML_Course\\Learn_ML\\venvML\\Lib\\site-packages\\pandas\\core\\indexing.py:1694\u001b[0m, in \u001b[0;36m_iLocIndexer._getitem_tuple\u001b[1;34m(self, tup)\u001b[0m\n\u001b[0;32m   1691\u001b[0m \u001b[38;5;28;01mwith\u001b[39;00m suppress(IndexingError):\n\u001b[0;32m   1692\u001b[0m     \u001b[38;5;28;01mreturn\u001b[39;00m \u001b[38;5;28mself\u001b[39m\u001b[38;5;241m.\u001b[39m_getitem_lowerdim(tup)\n\u001b[1;32m-> 1694\u001b[0m \u001b[38;5;28;01mreturn\u001b[39;00m \u001b[38;5;28;43mself\u001b[39;49m\u001b[38;5;241;43m.\u001b[39;49m\u001b[43m_getitem_tuple_same_dim\u001b[49m\u001b[43m(\u001b[49m\u001b[43mtup\u001b[49m\u001b[43m)\u001b[49m\n",
      "File \u001b[1;32m~\\OneDrive\\data_science\\Ruba_courses\\ML_Course\\Learn_ML\\venvML\\Lib\\site-packages\\pandas\\core\\indexing.py:1020\u001b[0m, in \u001b[0;36m_LocationIndexer._getitem_tuple_same_dim\u001b[1;34m(self, tup)\u001b[0m\n\u001b[0;32m   1017\u001b[0m \u001b[38;5;28;01mif\u001b[39;00m com\u001b[38;5;241m.\u001b[39mis_null_slice(key):\n\u001b[0;32m   1018\u001b[0m     \u001b[38;5;28;01mcontinue\u001b[39;00m\n\u001b[1;32m-> 1020\u001b[0m retval \u001b[38;5;241m=\u001b[39m \u001b[38;5;28;43mgetattr\u001b[39;49m\u001b[43m(\u001b[49m\u001b[43mretval\u001b[49m\u001b[43m,\u001b[49m\u001b[43m \u001b[49m\u001b[38;5;28;43mself\u001b[39;49m\u001b[38;5;241;43m.\u001b[39;49m\u001b[43mname\u001b[49m\u001b[43m)\u001b[49m\u001b[38;5;241;43m.\u001b[39;49m\u001b[43m_getitem_axis\u001b[49m\u001b[43m(\u001b[49m\u001b[43mkey\u001b[49m\u001b[43m,\u001b[49m\u001b[43m \u001b[49m\u001b[43maxis\u001b[49m\u001b[38;5;241;43m=\u001b[39;49m\u001b[43mi\u001b[49m\u001b[43m)\u001b[49m\n\u001b[0;32m   1021\u001b[0m \u001b[38;5;66;03m# We should never have retval.ndim < self.ndim, as that should\u001b[39;00m\n\u001b[0;32m   1022\u001b[0m \u001b[38;5;66;03m#  be handled by the _getitem_lowerdim call above.\u001b[39;00m\n\u001b[0;32m   1023\u001b[0m \u001b[38;5;28;01massert\u001b[39;00m retval\u001b[38;5;241m.\u001b[39mndim \u001b[38;5;241m==\u001b[39m \u001b[38;5;28mself\u001b[39m\u001b[38;5;241m.\u001b[39mndim\n",
      "File \u001b[1;32m~\\OneDrive\\data_science\\Ruba_courses\\ML_Course\\Learn_ML\\venvML\\Lib\\site-packages\\pandas\\core\\indexing.py:1729\u001b[0m, in \u001b[0;36m_iLocIndexer._getitem_axis\u001b[1;34m(self, key, axis)\u001b[0m\n\u001b[0;32m   1723\u001b[0m     \u001b[38;5;28;01mraise\u001b[39;00m \u001b[38;5;167;01mIndexError\u001b[39;00m(\n\u001b[0;32m   1724\u001b[0m         \u001b[38;5;124m\"\u001b[39m\u001b[38;5;124mDataFrame indexer is not allowed for .iloc\u001b[39m\u001b[38;5;130;01m\\n\u001b[39;00m\u001b[38;5;124m\"\u001b[39m\n\u001b[0;32m   1725\u001b[0m         \u001b[38;5;124m\"\u001b[39m\u001b[38;5;124mConsider using .loc for automatic alignment.\u001b[39m\u001b[38;5;124m\"\u001b[39m\n\u001b[0;32m   1726\u001b[0m     )\n\u001b[0;32m   1728\u001b[0m \u001b[38;5;28;01mif\u001b[39;00m \u001b[38;5;28misinstance\u001b[39m(key, \u001b[38;5;28mslice\u001b[39m):\n\u001b[1;32m-> 1729\u001b[0m     \u001b[38;5;28;01mreturn\u001b[39;00m \u001b[38;5;28;43mself\u001b[39;49m\u001b[38;5;241;43m.\u001b[39;49m\u001b[43m_get_slice_axis\u001b[49m\u001b[43m(\u001b[49m\u001b[43mkey\u001b[49m\u001b[43m,\u001b[49m\u001b[43m \u001b[49m\u001b[43maxis\u001b[49m\u001b[38;5;241;43m=\u001b[39;49m\u001b[43maxis\u001b[49m\u001b[43m)\u001b[49m\n\u001b[0;32m   1731\u001b[0m \u001b[38;5;28;01mif\u001b[39;00m is_iterator(key):\n\u001b[0;32m   1732\u001b[0m     key \u001b[38;5;241m=\u001b[39m \u001b[38;5;28mlist\u001b[39m(key)\n",
      "File \u001b[1;32m~\\OneDrive\\data_science\\Ruba_courses\\ML_Course\\Learn_ML\\venvML\\Lib\\site-packages\\pandas\\core\\indexing.py:1764\u001b[0m, in \u001b[0;36m_iLocIndexer._get_slice_axis\u001b[1;34m(self, slice_obj, axis)\u001b[0m\n\u001b[0;32m   1761\u001b[0m     \u001b[38;5;28;01mreturn\u001b[39;00m obj\u001b[38;5;241m.\u001b[39mcopy(deep\u001b[38;5;241m=\u001b[39m\u001b[38;5;28;01mFalse\u001b[39;00m)\n\u001b[0;32m   1763\u001b[0m labels \u001b[38;5;241m=\u001b[39m obj\u001b[38;5;241m.\u001b[39m_get_axis(axis)\n\u001b[1;32m-> 1764\u001b[0m \u001b[43mlabels\u001b[49m\u001b[38;5;241;43m.\u001b[39;49m\u001b[43m_validate_positional_slice\u001b[49m\u001b[43m(\u001b[49m\u001b[43mslice_obj\u001b[49m\u001b[43m)\u001b[49m\n\u001b[0;32m   1765\u001b[0m \u001b[38;5;28;01mreturn\u001b[39;00m \u001b[38;5;28mself\u001b[39m\u001b[38;5;241m.\u001b[39mobj\u001b[38;5;241m.\u001b[39m_slice(slice_obj, axis\u001b[38;5;241m=\u001b[39maxis)\n",
      "File \u001b[1;32m~\\OneDrive\\data_science\\Ruba_courses\\ML_Course\\Learn_ML\\venvML\\Lib\\site-packages\\pandas\\core\\indexes\\base.py:4197\u001b[0m, in \u001b[0;36mIndex._validate_positional_slice\u001b[1;34m(self, key)\u001b[0m\n\u001b[0;32m   4191\u001b[0m \u001b[38;5;129m@final\u001b[39m\n\u001b[0;32m   4192\u001b[0m \u001b[38;5;28;01mdef\u001b[39;00m\u001b[38;5;250m \u001b[39m\u001b[38;5;21m_validate_positional_slice\u001b[39m(\u001b[38;5;28mself\u001b[39m, key: \u001b[38;5;28mslice\u001b[39m) \u001b[38;5;241m-\u001b[39m\u001b[38;5;241m>\u001b[39m \u001b[38;5;28;01mNone\u001b[39;00m:\n\u001b[0;32m   4193\u001b[0m \u001b[38;5;250m    \u001b[39m\u001b[38;5;124;03m\"\"\"\u001b[39;00m\n\u001b[0;32m   4194\u001b[0m \u001b[38;5;124;03m    For positional indexing, a slice must have either int or None\u001b[39;00m\n\u001b[0;32m   4195\u001b[0m \u001b[38;5;124;03m    for each of start, stop, and step.\u001b[39;00m\n\u001b[0;32m   4196\u001b[0m \u001b[38;5;124;03m    \"\"\"\u001b[39;00m\n\u001b[1;32m-> 4197\u001b[0m     \u001b[38;5;28;43mself\u001b[39;49m\u001b[38;5;241;43m.\u001b[39;49m\u001b[43m_validate_indexer\u001b[49m\u001b[43m(\u001b[49m\u001b[38;5;124;43m\"\u001b[39;49m\u001b[38;5;124;43mpositional\u001b[39;49m\u001b[38;5;124;43m\"\u001b[39;49m\u001b[43m,\u001b[49m\u001b[43m \u001b[49m\u001b[43mkey\u001b[49m\u001b[38;5;241;43m.\u001b[39;49m\u001b[43mstart\u001b[49m\u001b[43m,\u001b[49m\u001b[43m \u001b[49m\u001b[38;5;124;43m\"\u001b[39;49m\u001b[38;5;124;43miloc\u001b[39;49m\u001b[38;5;124;43m\"\u001b[39;49m\u001b[43m)\u001b[49m\n\u001b[0;32m   4198\u001b[0m     \u001b[38;5;28mself\u001b[39m\u001b[38;5;241m.\u001b[39m_validate_indexer(\u001b[38;5;124m\"\u001b[39m\u001b[38;5;124mpositional\u001b[39m\u001b[38;5;124m\"\u001b[39m, key\u001b[38;5;241m.\u001b[39mstop, \u001b[38;5;124m\"\u001b[39m\u001b[38;5;124miloc\u001b[39m\u001b[38;5;124m\"\u001b[39m)\n\u001b[0;32m   4199\u001b[0m     \u001b[38;5;28mself\u001b[39m\u001b[38;5;241m.\u001b[39m_validate_indexer(\u001b[38;5;124m\"\u001b[39m\u001b[38;5;124mpositional\u001b[39m\u001b[38;5;124m\"\u001b[39m, key\u001b[38;5;241m.\u001b[39mstep, \u001b[38;5;124m\"\u001b[39m\u001b[38;5;124miloc\u001b[39m\u001b[38;5;124m\"\u001b[39m)\n",
      "File \u001b[1;32m~\\OneDrive\\data_science\\Ruba_courses\\ML_Course\\Learn_ML\\venvML\\Lib\\site-packages\\pandas\\core\\indexes\\base.py:6697\u001b[0m, in \u001b[0;36mIndex._validate_indexer\u001b[1;34m(self, form, key, kind)\u001b[0m\n\u001b[0;32m   6692\u001b[0m \u001b[38;5;250m\u001b[39m\u001b[38;5;124;03m\"\"\"\u001b[39;00m\n\u001b[0;32m   6693\u001b[0m \u001b[38;5;124;03mIf we are positional indexer, validate that we have appropriate\u001b[39;00m\n\u001b[0;32m   6694\u001b[0m \u001b[38;5;124;03mtyped bounds must be an integer.\u001b[39;00m\n\u001b[0;32m   6695\u001b[0m \u001b[38;5;124;03m\"\"\"\u001b[39;00m\n\u001b[0;32m   6696\u001b[0m \u001b[38;5;28;01mif\u001b[39;00m \u001b[38;5;129;01mnot\u001b[39;00m lib\u001b[38;5;241m.\u001b[39mis_int_or_none(key):\n\u001b[1;32m-> 6697\u001b[0m     \u001b[38;5;28;43mself\u001b[39;49m\u001b[38;5;241;43m.\u001b[39;49m\u001b[43m_raise_invalid_indexer\u001b[49m\u001b[43m(\u001b[49m\u001b[43mform\u001b[49m\u001b[43m,\u001b[49m\u001b[43m \u001b[49m\u001b[43mkey\u001b[49m\u001b[43m)\u001b[49m\n",
      "File \u001b[1;32m~\\OneDrive\\data_science\\Ruba_courses\\ML_Course\\Learn_ML\\venvML\\Lib\\site-packages\\pandas\\core\\indexes\\base.py:4301\u001b[0m, in \u001b[0;36mIndex._raise_invalid_indexer\u001b[1;34m(self, form, key, reraise)\u001b[0m\n\u001b[0;32m   4299\u001b[0m \u001b[38;5;28;01mif\u001b[39;00m reraise \u001b[38;5;129;01mis\u001b[39;00m \u001b[38;5;129;01mnot\u001b[39;00m lib\u001b[38;5;241m.\u001b[39mno_default:\n\u001b[0;32m   4300\u001b[0m     \u001b[38;5;28;01mraise\u001b[39;00m \u001b[38;5;167;01mTypeError\u001b[39;00m(msg) \u001b[38;5;28;01mfrom\u001b[39;00m\u001b[38;5;250m \u001b[39m\u001b[38;5;21;01mreraise\u001b[39;00m\n\u001b[1;32m-> 4301\u001b[0m \u001b[38;5;28;01mraise\u001b[39;00m \u001b[38;5;167;01mTypeError\u001b[39;00m(msg)\n",
      "\u001b[1;31mTypeError\u001b[0m: cannot do positional indexing on Index with these indexers [dates] of type str"
     ]
    }
   ],
   "source": [
    "# You can not use strings with the \"iloc\" property:\n",
    "diff_dtypes.iloc[1: 3, \"dates\": \"categories\"]"
   ]
  },
  {
   "cell_type": "markdown",
   "id": "64ef1849-3549-4e9f-bd8e-18e405fb4086",
   "metadata": {},
   "source": [
    "To copy a DataFrame we use the \"copy\" function:"
   ]
  },
  {
   "cell_type": "code",
   "execution_count": null,
   "id": "0b07aec9-5f65-4f02-a0d2-58a65619c251",
   "metadata": {},
   "outputs": [],
   "source": [
    "diff_dtypes_df_copy = diff_dtypes.copy()"
   ]
  },
  {
   "cell_type": "code",
   "execution_count": null,
   "id": "06241ba6-42f6-4212-94a7-e047377efec6",
   "metadata": {},
   "outputs": [],
   "source": [
    "diff_dtypes_df_copy"
   ]
  },
  {
   "cell_type": "code",
   "execution_count": null,
   "id": "038ff674-aafb-4778-975a-4d13226d25be",
   "metadata": {},
   "outputs": [],
   "source": []
  }
 ],
 "metadata": {
  "kernelspec": {
   "display_name": "venvML",
   "language": "python",
   "name": "venvml"
  },
  "language_info": {
   "codemirror_mode": {
    "name": "ipython",
    "version": 3
   },
   "file_extension": ".py",
   "mimetype": "text/x-python",
   "name": "python",
   "nbconvert_exporter": "python",
   "pygments_lexer": "ipython3",
   "version": "3.12.2"
  }
 },
 "nbformat": 4,
 "nbformat_minor": 5
}
