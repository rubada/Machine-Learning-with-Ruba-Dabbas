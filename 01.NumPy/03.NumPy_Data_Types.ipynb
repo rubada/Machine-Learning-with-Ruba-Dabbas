{
 "cells": [
  {
   "cell_type": "markdown",
   "id": "e893af65-5eb8-4422-a3a9-bbf96f56d4dc",
   "metadata": {},
   "source": [
    "### **Numerical Data Types:**\n",
    "There are 5 basic numerical types in NumPy:\n",
    "<br>**1. Booleans (bool)**\n",
    "<br>   *Booleans are integers because True is 1 and False is 0*\n",
    "<br>**2. Integers (int)**\n",
    "<br>   *int8, int16, int32, int64*\n",
    "<br>**3. Unsigned integers (uint)**\n",
    "<br>   *uint8, uint16, uint32, uint64*\n",
    "<br>   *Unsigned integers are numbers >=0*\n",
    "<br>**4. Floating point (float)**\n",
    "<br>   *float8, float16, float32, float64*\n",
    "<br>**5. Complex**\n",
    "<br> *complex64, complex128*"
   ]
  },
  {
   "cell_type": "markdown",
   "id": "d6edd430-10be-4838-a4ad-53d29a096f76",
   "metadata": {},
   "source": [
    "In int32 and float64, 32 and 64 are the number of bits, they represent the memory size to store the data.\n",
    "<br> Smaller bits size will save memory but reduce the precision of the stored values.\n",
    "<br> Larger bits size will consume more memory but provide more precision."
   ]
  },
  {
   "cell_type": "code",
   "execution_count": 19,
   "id": "7b3a13d3-21ec-40f9-bc92-bf1ca0603697",
   "metadata": {},
   "outputs": [],
   "source": [
    "import numpy as np"
   ]
  },
  {
   "cell_type": "code",
   "execution_count": 20,
   "id": "a697fb2c-beb3-4827-9101-275971cec482",
   "metadata": {},
   "outputs": [
    {
     "name": "stdout",
     "output_type": "stream",
     "text": [
      "[ True False False  True]\n",
      "bool\n"
     ]
    }
   ],
   "source": [
    "# Create boolean array data type\n",
    "my_bool = np.array([True, False, False, True])\n",
    "\n",
    "# To know the NumPy data type use the \"dtype\" object.\n",
    "print(my_bool)\n",
    "print(my_bool.dtype)"
   ]
  },
  {
   "cell_type": "code",
   "execution_count": 21,
   "id": "7681f969-c636-408d-8bc6-4f5df0d12d8d",
   "metadata": {},
   "outputs": [
    {
     "name": "stdout",
     "output_type": "stream",
     "text": [
      "[1 0 0 1]\n",
      "int32\n"
     ]
    }
   ],
   "source": [
    "# Using the \"dtype\" parameter to change the type of the created array:\n",
    "my_bool = np.array([True, False, False, True], dtype=np.int32)\n",
    "\n",
    "# To know the NumPy data type use the \"dtype\" object.\n",
    "print(my_bool)\n",
    "print(my_bool.dtype)"
   ]
  },
  {
   "cell_type": "code",
   "execution_count": 22,
   "id": "e709dcef-b581-4ce8-a6fc-8fc0547a3172",
   "metadata": {},
   "outputs": [
    {
     "name": "stdout",
     "output_type": "stream",
     "text": [
      "int64\n"
     ]
    }
   ],
   "source": [
    "# Create integer array data type\n",
    "\n",
    "my_int = np.array([22, 54, 42, 90])\n",
    "print(my_int.dtype)"
   ]
  },
  {
   "cell_type": "code",
   "execution_count": 23,
   "id": "2b5bccee-86c9-49d6-91b5-82327d83a87d",
   "metadata": {},
   "outputs": [
    {
     "name": "stdout",
     "output_type": "stream",
     "text": [
      "int32\n"
     ]
    }
   ],
   "source": [
    "my_int = np.array([22, 54, 42, 90], dtype=np.int32)\n",
    "print(my_int.dtype)"
   ]
  },
  {
   "cell_type": "code",
   "execution_count": 24,
   "id": "59613729-c58a-42de-a431-49a5880cada4",
   "metadata": {},
   "outputs": [
    {
     "name": "stdout",
     "output_type": "stream",
     "text": [
      "uint64\n"
     ]
    }
   ],
   "source": [
    "# Create unsigned integer array data type\n",
    "\n",
    "my_uint = np.array([22, 54, 42, 90], dtype=np.uint)\n",
    "print(my_uint.dtype)"
   ]
  },
  {
   "cell_type": "code",
   "execution_count": 25,
   "id": "d49bcebf-5d1a-47b9-8f4d-24775e6e9f1c",
   "metadata": {},
   "outputs": [
    {
     "name": "stdout",
     "output_type": "stream",
     "text": [
      "float64\n"
     ]
    }
   ],
   "source": [
    "# Create float array data type\n",
    "\n",
    "my_float = np.array([2.2, 5.4, 4.2, 9.3])\n",
    "print(my_float.dtype)"
   ]
  },
  {
   "cell_type": "code",
   "execution_count": 26,
   "id": "4f3c3003-d0c0-4701-b357-43073b705026",
   "metadata": {},
   "outputs": [
    {
     "name": "stdout",
     "output_type": "stream",
     "text": [
      "float32\n"
     ]
    }
   ],
   "source": [
    "my_float = np.array([2, 5, 4, 9], dtype=np.float32)\n",
    "print(my_float.dtype)"
   ]
  },
  {
   "cell_type": "code",
   "execution_count": 27,
   "id": "14dee193-3881-4bd3-b5e1-e477d12d3ee5",
   "metadata": {},
   "outputs": [
    {
     "name": "stdout",
     "output_type": "stream",
     "text": [
      "complex64\n",
      "[22.+0.j 54.+0.j 42.+0.j 90.+0.j]\n"
     ]
    }
   ],
   "source": [
    "# Create unsigned integer array data type\n",
    "\n",
    "my_complex = np.array([22, 54, 42, 90], dtype=np.complex64)\n",
    "print(my_complex.dtype)\n",
    "print(my_complex)"
   ]
  },
  {
   "cell_type": "markdown",
   "id": "38d94a89-3d70-4ec1-85e7-9b950a2d6dcf",
   "metadata": {},
   "source": [
    "### **Strings Data Types:**"
   ]
  },
  {
   "cell_type": "code",
   "execution_count": 10,
   "id": "ea2b9e06-46cd-499f-9611-fed2dfbfddb6",
   "metadata": {},
   "outputs": [
    {
     "name": "stdout",
     "output_type": "stream",
     "text": [
      "<U8\n",
      "['Python' 'language' 'Java']\n"
     ]
    }
   ],
   "source": [
    "my_str = np.array([\"Python\", \"language\", \"Java\"])\n",
    "print(my_str.dtype)\n",
    "print(my_str)"
   ]
  },
  {
   "cell_type": "markdown",
   "id": "bbc326c9-3f06-4a8d-ab69-60cacf0caf13",
   "metadata": {},
   "source": [
    "Here the data type is detected as a Unicode string that is a maximum of 8 code points long."
   ]
  },
  {
   "cell_type": "code",
   "execution_count": 11,
   "id": "a44729bd-82f7-4ba1-8611-1c17f57fc77e",
   "metadata": {},
   "outputs": [
    {
     "name": "stdout",
     "output_type": "stream",
     "text": [
      "<U5\n",
      "['Pytho' 'langu' 'Java']\n"
     ]
    }
   ],
   "source": [
    "my_str1 = np.array([\"Python\", \"language\", \"Java\"], dtype=\"U5\")\n",
    "print(my_str1.dtype)\n",
    "print(my_str1)"
   ]
  },
  {
   "cell_type": "code",
   "execution_count": 12,
   "id": "21905a02-33f2-444e-8ef7-5e264ec2d0f7",
   "metadata": {},
   "outputs": [
    {
     "name": "stdout",
     "output_type": "stream",
     "text": [
      "<U5\n",
      "['1' '2' '3']\n"
     ]
    }
   ],
   "source": [
    "num_str = np.array([1, 2, 3], dtype=\"U5\")\n",
    "print(num_str.dtype)\n",
    "print(num_str)"
   ]
  },
  {
   "cell_type": "markdown",
   "id": "37735c29-68e3-476f-9a37-6db3427acf07",
   "metadata": {},
   "source": [
    "For complex string processing, libraries like Pandas may be more convenient and flexible."
   ]
  },
  {
   "cell_type": "code",
   "execution_count": null,
   "id": "e5298b0a-5d78-4823-90d3-d568fa10f0e1",
   "metadata": {},
   "outputs": [],
   "source": []
  }
 ],
 "metadata": {
  "kernelspec": {
   "display_name": "venvML",
   "language": "python",
   "name": "python3"
  },
  "language_info": {
   "codemirror_mode": {
    "name": "ipython",
    "version": 3
   },
   "file_extension": ".py",
   "mimetype": "text/x-python",
   "name": "python",
   "nbconvert_exporter": "python",
   "pygments_lexer": "ipython3",
   "version": "3.12.2"
  }
 },
 "nbformat": 4,
 "nbformat_minor": 5
}
