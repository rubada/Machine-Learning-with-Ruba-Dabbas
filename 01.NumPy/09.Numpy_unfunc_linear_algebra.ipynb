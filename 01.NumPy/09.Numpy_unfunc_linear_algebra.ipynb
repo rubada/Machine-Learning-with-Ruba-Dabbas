{
 "cells": [
  {
   "cell_type": "markdown",
   "id": "3aca9010-a9ae-4e98-8a67-c5fc4364031a",
   "metadata": {},
   "source": [
    "### **Numpy Linear algebra (numpy.linalg):**"
   ]
  },
  {
   "cell_type": "markdown",
   "id": "00944221-985d-4c4c-92a8-9ef1804c42dd",
   "metadata": {},
   "source": [
    "In this section we will discuss some of the linear algebra functions, we will not cover all of them, if you need a specific function you can check this link:\n",
    "<br>https://numpy.org/doc/stable/reference/routines.linalg.html#linear-algebra-numpy-linalg"
   ]
  },
  {
   "cell_type": "markdown",
   "id": "af325c03-1d25-4a3e-939d-5bacc02ec0ea",
   "metadata": {},
   "source": [
    "### **Matrix and Vector Products:**"
   ]
  },
  {
   "cell_type": "markdown",
   "id": "08aaa022-32c0-4489-81b6-fb273b96061f",
   "metadata": {},
   "source": [
    "We discussed vectorized or element-wise multiplication, which differs from matrix and vector multiplication (or product)."
   ]
  },
  {
   "cell_type": "code",
   "execution_count": 1,
   "id": "c2dd5918-a934-49e6-9c9a-f40e027f8589",
   "metadata": {},
   "outputs": [],
   "source": [
    "import numpy as np"
   ]
  },
  {
   "cell_type": "code",
   "execution_count": null,
   "id": "22cad149-bd33-4fb5-a311-481288691829",
   "metadata": {},
   "outputs": [],
   "source": [
    "array_one = np.array([[1, 2, 3],\n",
    "                      [4, 2, 6]])\n",
    "array_two = np.array([[5, 8, 0],\n",
    "                      [9, 1, 3]])\n",
    "\n",
    "print(array_one * array_two)"
   ]
  },
  {
   "cell_type": "markdown",
   "id": "01864205-d2ff-4228-9abe-ec76d4bb2ca2",
   "metadata": {},
   "source": [
    "#### **Vectors and Matrices Multiplication (Product):**"
   ]
  },
  {
   "cell_type": "markdown",
   "id": "107feb43-5bf5-403c-b522-cfb73f263ee6",
   "metadata": {},
   "source": [
    "##### **\"dot()\" and \"matmul()\" Functions:**\n",
    "\"dot\" function returns the dot product of two arrays and is used with vector multiplication.\n",
    "<br>If it is matrix multiplication, it is better to use \"matmul()\" "
   ]
  },
  {
   "cell_type": "code",
   "execution_count": 1,
   "id": "0058b765-e231-4e06-9881-82505da28dd7",
   "metadata": {},
   "outputs": [
    {
     "ename": "NameError",
     "evalue": "name 'np' is not defined",
     "output_type": "error",
     "traceback": [
      "\u001b[1;31m---------------------------------------------------------------------------\u001b[0m",
      "\u001b[1;31mNameError\u001b[0m                                 Traceback (most recent call last)",
      "Cell \u001b[1;32mIn[1], line 2\u001b[0m\n\u001b[0;32m      1\u001b[0m \u001b[38;5;66;03m# Multiply two vectors\u001b[39;00m\n\u001b[1;32m----> 2\u001b[0m vector_one \u001b[38;5;241m=\u001b[39m \u001b[43mnp\u001b[49m\u001b[38;5;241m.\u001b[39marray([\u001b[38;5;241m1\u001b[39m, \u001b[38;5;241m2\u001b[39m, \u001b[38;5;241m3\u001b[39m, \u001b[38;5;241m4\u001b[39m])\u001b[38;5;241m.\u001b[39mreshape(\u001b[38;5;241m1\u001b[39m,\u001b[38;5;241m4\u001b[39m)\n\u001b[0;32m      3\u001b[0m vector_two \u001b[38;5;241m=\u001b[39m np\u001b[38;5;241m.\u001b[39marray([\u001b[38;5;241m5\u001b[39m, \u001b[38;5;241m6\u001b[39m, \u001b[38;5;241m7\u001b[39m, \u001b[38;5;241m8\u001b[39m])\u001b[38;5;241m.\u001b[39mreshape(\u001b[38;5;241m4\u001b[39m,\u001b[38;5;241m1\u001b[39m)\n\u001b[0;32m      4\u001b[0m \u001b[38;5;28mprint\u001b[39m(vector_one\u001b[38;5;241m.\u001b[39mshape)\n",
      "\u001b[1;31mNameError\u001b[0m: name 'np' is not defined"
     ]
    }
   ],
   "source": [
    "# Multiply two vectors\n",
    "vector_one = np.array([1, 2, 3, 4]).reshape(1,4)\n",
    "vector_two = np.array([5, 6, 7, 8]).reshape(4,1)\n",
    "print(vector_one.shape)\n",
    "print(vector_two.shape)"
   ]
  },
  {
   "cell_type": "code",
   "execution_count": null,
   "id": "e555c3f6-16fc-478b-932f-16a77c7ec4f1",
   "metadata": {},
   "outputs": [],
   "source": [
    "print(np.dot(vector_one, vector_two))"
   ]
  },
  {
   "cell_type": "code",
   "execution_count": null,
   "id": "1ff22527-4d17-4205-84d8-460749fcc154",
   "metadata": {},
   "outputs": [],
   "source": [
    "print(np.dot(vector_two, vector_one))"
   ]
  },
  {
   "cell_type": "code",
   "execution_count": null,
   "id": "0fb8decd-05c4-4342-b75f-b1aef0c19910",
   "metadata": {},
   "outputs": [],
   "source": [
    "# Multiply two matrices\n",
    "matrix_one = np.array([[1, 3, 5],\n",
    "                       [2, 4, 6]])\n",
    "matrix_two = np.array([[7, 9],\n",
    "                       [8, 1],\n",
    "                       [1, 2]])\n",
    "\n",
    "print(matrix_one.shape)\n",
    "print(matrix_two.shape)"
   ]
  },
  {
   "cell_type": "code",
   "execution_count": null,
   "id": "c0599429-874d-43a5-bc63-80daff8677bb",
   "metadata": {},
   "outputs": [],
   "source": [
    "print(np.matmul(matrix_one, matrix_two))"
   ]
  },
  {
   "cell_type": "markdown",
   "id": "beceb196-3b62-48e4-b0c6-8a2b67e07fef",
   "metadata": {},
   "source": [
    "#### **Vectors and Matrices Transpose:**"
   ]
  },
  {
   "cell_type": "markdown",
   "id": "e06e3e06-4e67-4f50-a9eb-097c86b0084f",
   "metadata": {},
   "source": [
    "##### **\"T\" attribute:** \n",
    "It finds the view of the transposed Array.\n",
    "<br>Best for simple and quick access to the transpose.\n",
    "<br>It is better used with 2-D arrays."
   ]
  },
  {
   "cell_type": "code",
   "execution_count": 2,
   "id": "6f834e43-c439-4f47-8e03-7c19931141ce",
   "metadata": {},
   "outputs": [
    {
     "name": "stdout",
     "output_type": "stream",
     "text": [
      "[['a' 'e' 'i']\n",
      " ['b' 'f' 'j']\n",
      " ['c' 'g' 'k']\n",
      " ['d' 'h' 'l']]\n",
      "(4, 3)\n"
     ]
    }
   ],
   "source": [
    "matrix_3x4 = np.array([[\"a\", \"b\", \"c\", \"d\"],\n",
    "                       [\"e\", \"f\", \"g\", \"h\"],\n",
    "                       [\"i\", \"j\", \"k\", \"l\"]])\n",
    "\n",
    "matrix_trans = matrix_3x4.T\n",
    "\n",
    "print(matrix_trans)\n",
    "print(matrix_trans.shape)"
   ]
  },
  {
   "cell_type": "code",
   "execution_count": 3,
   "id": "561636e8-9463-488c-8214-0936a741e076",
   "metadata": {},
   "outputs": [
    {
     "name": "stdout",
     "output_type": "stream",
     "text": [
      "[['a' 'b' 'c' 'd']\n",
      " ['e' 'f' 'g' 'h']\n",
      " ['i' 'j' 'k' 'l']]\n"
     ]
    }
   ],
   "source": [
    "print(matrix_trans.base)"
   ]
  },
  {
   "cell_type": "code",
   "execution_count": 4,
   "id": "dea79f90-27d3-4e8c-baab-6df5b9f17d39",
   "metadata": {},
   "outputs": [
    {
     "name": "stdout",
     "output_type": "stream",
     "text": [
      "[[['a' 'g']\n",
      "  ['d' 'j']]\n",
      "\n",
      " [['b' 'h']\n",
      "  ['e' 'k']]\n",
      "\n",
      " [['c' 'i']\n",
      "  ['f' 'l']]]\n",
      "(3, 2, 2)\n"
     ]
    }
   ],
   "source": [
    "# 3-D Arrays\n",
    "array_2x2x3 = np.array([\n",
    "    [[\"a\", \"b\", \"c\"],\n",
    "     [\"d\", \"e\", \"f\"]],\n",
    "\n",
    "    [[\"g\", \"h\", \"i\"],\n",
    "     [\"j\", \"k\", \"l\"]]\n",
    "     ])\n",
    "array_3d_trans = array_2x2x3.T\n",
    "print(array_3d_trans)\n",
    "print(array_3d_trans.shape)"
   ]
  },
  {
   "cell_type": "markdown",
   "id": "0bf976a8-ebf4-4982-b6a0-8c54ad68f486",
   "metadata": {},
   "source": [
    "##### **\"Transpose()\":**\n",
    "It returns a view an array with axes transposed.\n",
    "<br>This is function that allows more control over transposing, especially for arrays with dimensions greater than 2."
   ]
  },
  {
   "cell_type": "code",
   "execution_count": 5,
   "id": "4f7d0bf9-b2da-40a1-b4fb-ec30a1ff0d82",
   "metadata": {},
   "outputs": [
    {
     "name": "stdout",
     "output_type": "stream",
     "text": [
      "[['a' 'e' 'i']\n",
      " ['b' 'f' 'j']\n",
      " ['c' 'g' 'k']\n",
      " ['d' 'h' 'l']]\n",
      "(4, 3)\n"
     ]
    }
   ],
   "source": [
    "matrix_3x4 = np.array([[\"a\", \"b\", \"c\", \"d\"],\n",
    "                       [\"e\", \"f\", \"g\", \"h\"],\n",
    "                       [\"i\", \"j\", \"k\", \"l\"]])\n",
    "\n",
    "array_trans = np.transpose(matrix_3x4)\n",
    "\n",
    "print(array_trans)\n",
    "print(array_trans.shape)"
   ]
  },
  {
   "cell_type": "code",
   "execution_count": 6,
   "id": "8b0a47e6-76b5-4ce0-8c3b-837b2ae5e702",
   "metadata": {},
   "outputs": [
    {
     "name": "stdout",
     "output_type": "stream",
     "text": [
      "[['a' 'b' 'c' 'd']\n",
      " ['e' 'f' 'g' 'h']\n",
      " ['i' 'j' 'k' 'l']]\n"
     ]
    }
   ],
   "source": [
    "print(array_trans.base)"
   ]
  },
  {
   "cell_type": "code",
   "execution_count": 8,
   "id": "726e92c4-ab55-4b1a-b05b-4b1b130c9460",
   "metadata": {},
   "outputs": [
    {
     "name": "stdout",
     "output_type": "stream",
     "text": [
      "[[['a' 'd']\n",
      "  ['b' 'e']\n",
      "  ['c' 'f']]\n",
      "\n",
      " [['g' 'j']\n",
      "  ['h' 'k']\n",
      "  ['i' 'l']]]\n",
      "(2, 3, 2)\n"
     ]
    }
   ],
   "source": [
    "# 3-D Arrays\n",
    "array_2x2x3 = np.array([\n",
    "    [[\"a\", \"b\", \"c\"],\n",
    "     [\"d\", \"e\", \"f\"]],\n",
    "\n",
    "    [[\"g\", \"h\", \"i\"],\n",
    "     [\"j\", \"k\", \"l\"]]\n",
    "     ])\n",
    "\n",
    "# arr_3d_trans = np.transpose(array_2x2x3, axes=(2,1,0))\n",
    "# axes=(2,1,0) means:\n",
    "# Axis 2 means: Change the number of arrays to 3.\n",
    "# Axis 1: Keep the number of rows, 2.\n",
    "# Axis 0: Change the number of columns to 2.\n",
    "\n",
    "arr_3d_trans = np.transpose(array_2x2x3, axes=(0,2,1))\n",
    "\n",
    "# axes=(0,2,1) means:\n",
    "# Axis 0 means: Keep the number of arrays, 2.\n",
    "# Swap the rows with columns,\n",
    "# Axis 2 becomes the row\n",
    "# Axis 1 becomes columns\n",
    "\n",
    "print(arr_3d_trans)\n",
    "print(arr_3d_trans.shape)"
   ]
  },
  {
   "cell_type": "markdown",
   "id": "cf57600a-a675-44e7-b060-7f9a8b055beb",
   "metadata": {},
   "source": [
    "##### **\"linalg.matrix_transpose()\", Function:**\n",
    "Transposes a matrix (or a stack of matrices), specifically designed to handle two-dimensional arrays (matrices) or higher-dimensional (a stack of matrices)."
   ]
  },
  {
   "cell_type": "code",
   "execution_count": 9,
   "id": "a15f1fdb-34ed-4f9d-b0eb-ab7341000b62",
   "metadata": {},
   "outputs": [
    {
     "name": "stdout",
     "output_type": "stream",
     "text": [
      "[['a' 'e' 'i']\n",
      " ['b' 'f' 'j']\n",
      " ['c' 'g' 'k']\n",
      " ['d' 'h' 'l']]\n",
      "(4, 3)\n"
     ]
    }
   ],
   "source": [
    "matrix_3x4 = np.array([[\"a\", \"b\", \"c\", \"d\"],\n",
    "                       [\"e\", \"f\", \"g\", \"h\"],\n",
    "                       [\"i\", \"j\", \"k\", \"l\"]])\n",
    "\n",
    "matrix_4x3 = np.matrix_transpose(matrix_3x4)\n",
    "\n",
    "print(np.matrix_transpose(matrix_3x4))\n",
    "print(matrix_4x3.shape)"
   ]
  },
  {
   "cell_type": "code",
   "execution_count": 10,
   "id": "538c7945-c69f-41df-a6eb-91d622e6559f",
   "metadata": {},
   "outputs": [
    {
     "name": "stdout",
     "output_type": "stream",
     "text": [
      "[['a' 'b' 'c' 'd']\n",
      " ['e' 'f' 'g' 'h']\n",
      " ['i' 'j' 'k' 'l']]\n"
     ]
    }
   ],
   "source": [
    "print(matrix_4x3.base)"
   ]
  },
  {
   "cell_type": "code",
   "execution_count": 11,
   "id": "ad4e98bf-b3d1-42c4-be92-ea04ab9ebac6",
   "metadata": {},
   "outputs": [
    {
     "name": "stdout",
     "output_type": "stream",
     "text": [
      "[[['a' 'd']\n",
      "  ['b' 'e']\n",
      "  ['c' 'f']]\n",
      "\n",
      " [['g' 'j']\n",
      "  ['h' 'k']\n",
      "  ['i' 'l']]]\n",
      "(2, 3, 2)\n"
     ]
    }
   ],
   "source": [
    "# 3-D Arrays\n",
    "array_2x2x3 = np.array([\n",
    "    [[\"a\", \"b\", \"c\"],\n",
    "     [\"d\", \"e\", \"f\"]],\n",
    "\n",
    "    [[\"g\", \"h\", \"i\"],\n",
    "     [\"j\", \"k\", \"l\"]]\n",
    "     ])\n",
    "\n",
    "mat_3d_trans = np.matrix_transpose(array_2x2x3)\n",
    "\n",
    "print(mat_3d_trans)\n",
    "print(mat_3d_trans.shape)"
   ]
  },
  {
   "cell_type": "code",
   "execution_count": null,
   "id": "a4dff51b-69df-4c48-9773-6088a670528d",
   "metadata": {},
   "outputs": [],
   "source": []
  }
 ],
 "metadata": {
  "kernelspec": {
   "display_name": "venvML",
   "language": "python",
   "name": "python3"
  },
  "language_info": {
   "codemirror_mode": {
    "name": "ipython",
    "version": 3
   },
   "file_extension": ".py",
   "mimetype": "text/x-python",
   "name": "python",
   "nbconvert_exporter": "python",
   "pygments_lexer": "ipython3",
   "version": "3.12.2"
  }
 },
 "nbformat": 4,
 "nbformat_minor": 5
}
