{
 "cells": [
  {
   "cell_type": "markdown",
   "id": "e6025123-16bf-4848-94a0-8d9579df4ad0",
   "metadata": {},
   "source": [
    "### **What is NumPy?**\n",
    "NumPy, short for Numerical Python, is a fundamental Python package for scientific computing.\n",
    "<br>It is a high-performance package for multidimensional array calculations."
   ]
  },
  {
   "cell_type": "markdown",
   "id": "6a9bd40e-7f64-4293-b6ac-5e262677faca",
   "metadata": {},
   "source": [
    "### **Why use NumPy?**\n",
    "Lists serve the purpose of arrays in Python but they are slow.\n",
    "<br>NumPy arrays are faster and provide \"ndarray\" multiple dimensions.\n",
    "<br>NumPy has many functions for \"ndarray\" calculations."
   ]
  },
  {
   "cell_type": "markdown",
   "id": "a9cbb3a3-c8fd-42c4-8133-a6ff1bd34de3",
   "metadata": {},
   "source": [
    "For more information about NumPy, check the below link:\n",
    "<br> https://numpy.org/doc/"
   ]
  },
  {
   "cell_type": "markdown",
   "id": "88ce6cef-5e60-4b6b-8c6d-dba2cecbdce0",
   "metadata": {},
   "source": [
    "To use NumPy the Package should be installed:\n",
    "<br>pip install numpy\n",
    "\n",
    "Then import NumPy, \"np\" is the common Numpy alias."
   ]
  },
  {
   "cell_type": "code",
   "execution_count": 1,
   "id": "f56a4d8e-3628-4517-b265-56ec1802242c",
   "metadata": {},
   "outputs": [],
   "source": [
    "import numpy as np"
   ]
  },
  {
   "cell_type": "markdown",
   "id": "d755e55d-93e4-4b3a-b9ba-3c3a1c885ad8",
   "metadata": {},
   "source": [
    "#### **1-D arrays:**"
   ]
  },
  {
   "cell_type": "code",
   "execution_count": 2,
   "id": "13939a47-fc17-46c8-b0ba-f4b6d17838eb",
   "metadata": {},
   "outputs": [
    {
     "data": {
      "text/plain": [
       "array([2, 3, 4])"
      ]
     },
     "execution_count": 2,
     "metadata": {},
     "output_type": "execute_result"
    }
   ],
   "source": [
    "# Creating an array from a list, which is a horizontal vector:\n",
    "my_array_list = np.array([2, 3, 4])\n",
    "\n",
    "my_array_list"
   ]
  },
  {
   "cell_type": "code",
   "execution_count": 3,
   "id": "5bb01aee-a8e8-47d5-af5e-c1b66fa54496",
   "metadata": {},
   "outputs": [
    {
     "name": "stdout",
     "output_type": "stream",
     "text": [
      "[2 3 4]\n",
      "<class 'numpy.ndarray'>\n",
      "(3,)\n"
     ]
    }
   ],
   "source": [
    "print(my_array_list)\n",
    "print(type(my_array_list))\n",
    "print(my_array_list.shape)"
   ]
  },
  {
   "cell_type": "code",
   "execution_count": 4,
   "id": "74769a66-7b6a-46fb-b4d0-23ff67c972c1",
   "metadata": {},
   "outputs": [
    {
     "name": "stdout",
     "output_type": "stream",
     "text": [
      "[2 3 4]\n",
      "<class 'numpy.ndarray'>\n",
      "(3,)\n"
     ]
    }
   ],
   "source": [
    "# Creating a 1-D array from a tuple, which is a horizontal vector:\n",
    "my_array_tuple = np.array((2, 3, 4))\n",
    "\n",
    "print(my_array_tuple)\n",
    "print(type(my_array_tuple))\n",
    "print(my_array_tuple.shape)"
   ]
  },
  {
   "cell_type": "code",
   "execution_count": 5,
   "id": "820ad846-7f97-41df-9a49-2edd60997dc7",
   "metadata": {},
   "outputs": [
    {
     "name": "stdout",
     "output_type": "stream",
     "text": [
      "[[2]\n",
      " [3]\n",
      " [6]]\n",
      "(3, 1)\n"
     ]
    }
   ],
   "source": [
    "# Creating a 1-D array, a vertical vector::\n",
    "one_column = np.array([[2], [3], [6]])\n",
    "\n",
    "print(one_column)\n",
    "print(one_column.shape)"
   ]
  },
  {
   "cell_type": "markdown",
   "id": "1aacb416-e6da-4383-a0e7-c93242b8c236",
   "metadata": {},
   "source": [
    "**You can use the \"len\" function with 1-D array:**"
   ]
  },
  {
   "cell_type": "code",
   "execution_count": 6,
   "id": "28593811-a000-43f6-814d-d30c7d13805b",
   "metadata": {},
   "outputs": [
    {
     "name": "stdout",
     "output_type": "stream",
     "text": [
      "3\n"
     ]
    }
   ],
   "source": [
    "# With a horizontal vector you will get the first dimension:\n",
    "print(len(my_array_tuple))"
   ]
  },
  {
   "cell_type": "code",
   "execution_count": 7,
   "id": "727882c3-f2ac-47af-b3f3-85119bd95fe4",
   "metadata": {},
   "outputs": [
    {
     "name": "stdout",
     "output_type": "stream",
     "text": [
      "3\n"
     ]
    }
   ],
   "source": [
    "# With a vertical vector you will get the first dimension:\n",
    "print(len(one_column))"
   ]
  },
  {
   "cell_type": "markdown",
   "id": "a812be16-8d44-42ba-aa35-de3d09d8e7be",
   "metadata": {},
   "source": [
    "**NumPy performs vectorized operations:**\n",
    "<br>That means it applies operations element-wise."
   ]
  },
  {
   "cell_type": "code",
   "execution_count": 8,
   "id": "618b32df-972c-4293-be68-ad20b437091a",
   "metadata": {},
   "outputs": [],
   "source": [
    "# Let's take an example:\n",
    "vector_list1 = [1, 2, 3, 4]\n",
    "vector_list2 = [5, 6, 7, 8]"
   ]
  },
  {
   "cell_type": "code",
   "execution_count": 9,
   "id": "7071b899-2704-4103-b03a-4e1156127af3",
   "metadata": {},
   "outputs": [
    {
     "name": "stdout",
     "output_type": "stream",
     "text": [
      "[5, 12, 21, 32]\n"
     ]
    }
   ],
   "source": [
    "# To multiply two lists element-wise:\n",
    "vector_list_multipy = [vector_list1[i] * vector_list2[i] for i in range(len(vector_list1))]\n",
    "\n",
    "print(vector_list_multipy)"
   ]
  },
  {
   "cell_type": "code",
   "execution_count": 10,
   "id": "bc7caf0e-636c-44d5-a664-387a0d127a57",
   "metadata": {},
   "outputs": [
    {
     "name": "stdout",
     "output_type": "stream",
     "text": [
      "[ 5 12 21 32]\n"
     ]
    }
   ],
   "source": [
    "# To multiply two NumPy arrays element-wise:\n",
    "numpy_list1 = np.array([1, 2, 3, 4])\n",
    "numpy_list2 = np.array([5, 6, 7, 8])\n",
    "\n",
    "vector_numpy_multiply = numpy_list1 * numpy_list2\n",
    "\n",
    "print(vector_numpy_multiply)"
   ]
  },
  {
   "cell_type": "code",
   "execution_count": 11,
   "id": "380401ca-f634-4a75-973a-a02035688179",
   "metadata": {},
   "outputs": [
    {
     "name": "stdout",
     "output_type": "stream",
     "text": [
      "[6, 8, 10, 12]\n"
     ]
    }
   ],
   "source": [
    "# To add two lists element-wise:\n",
    "vector_list_add = [vector_list1[i] + vector_list2[i] for i in range(len(vector_list1))]\n",
    "\n",
    "print(vector_list_add)"
   ]
  },
  {
   "cell_type": "code",
   "execution_count": 12,
   "id": "4f9bbad4-72f9-458e-8cb0-d232eb1f5bcd",
   "metadata": {},
   "outputs": [
    {
     "name": "stdout",
     "output_type": "stream",
     "text": [
      "[ 6  8 10 12]\n"
     ]
    }
   ],
   "source": [
    "# To add two NumPy arrays element-wise:\n",
    "vector_numpy_add = numpy_list1 + numpy_list2\n",
    "\n",
    "print(vector_numpy_add)"
   ]
  },
  {
   "cell_type": "markdown",
   "id": "4cbb55e8-ae19-443f-9e28-fc8a128a5b14",
   "metadata": {},
   "source": [
    "***NumPy arrays are more efficient than lists because there is no need to use a \"for\" loop.***"
   ]
  },
  {
   "cell_type": "markdown",
   "id": "e96e8ad8-a5ad-407a-a617-f16fa358b50a",
   "metadata": {},
   "source": [
    "### **Creating multiple dimension arrays:**"
   ]
  },
  {
   "cell_type": "markdown",
   "id": "a6f00363-d20c-4a76-a12f-8c77643a21df",
   "metadata": {},
   "source": [
    "#### **1. 2-D arrays:**"
   ]
  },
  {
   "cell_type": "code",
   "execution_count": 13,
   "id": "33c14306-b63e-48dd-9c8d-b19425b0ee08",
   "metadata": {},
   "outputs": [
    {
     "name": "stdout",
     "output_type": "stream",
     "text": [
      "[[1 2 3]\n",
      " [4 2 6]]\n",
      "\n",
      "Shape:(2, 3)\n"
     ]
    }
   ],
   "source": [
    "# shape 2 rows x 3 columns\n",
    "array_2x3 = np.array([[1, 2, 3],\n",
    "                      [4, 2, 6]])\n",
    "print(array_2x3)\n",
    "print()\n",
    "print(f\"Shape:{array_2x3.shape}\")"
   ]
  },
  {
   "cell_type": "code",
   "execution_count": 14,
   "id": "db5ed86c-f765-4c9f-b452-17f1fffe29be",
   "metadata": {},
   "outputs": [
    {
     "name": "stdout",
     "output_type": "stream",
     "text": [
      "[[1 2 3]\n",
      " [4 2 6]\n",
      " [4 2 6]\n",
      " [4 2 6]]\n",
      "\n",
      "Shape:(4, 3)\n"
     ]
    }
   ],
   "source": [
    "# shape 4 rows x 3 columns\n",
    "array_4x3 = np.array([[1, 2, 3],\n",
    "                      [4, 2, 6],\n",
    "                      [4, 2, 6],\n",
    "                      [4, 2, 6]])\n",
    "print(array_4x3)\n",
    "print()\n",
    "print(f\"Shape:{array_4x3.shape}\")"
   ]
  },
  {
   "cell_type": "markdown",
   "id": "d4dd2299-2fb7-47cf-9ba3-f0d3e72bdd37",
   "metadata": {},
   "source": [
    "**You can use the \"len\" function with 2-D array:**"
   ]
  },
  {
   "cell_type": "code",
   "execution_count": 15,
   "id": "bfca3602-55c6-40f3-8ed4-e80b1f86bbf7",
   "metadata": {},
   "outputs": [
    {
     "name": "stdout",
     "output_type": "stream",
     "text": [
      "2\n"
     ]
    }
   ],
   "source": [
    "# shape 2 rows x 3 columns, you will get the first dimension which is 2\n",
    "print(len(array_2x3))"
   ]
  },
  {
   "cell_type": "code",
   "execution_count": 16,
   "id": "24788c54-a6a5-41b1-915a-124d563821b7",
   "metadata": {},
   "outputs": [
    {
     "name": "stdout",
     "output_type": "stream",
     "text": [
      "4\n"
     ]
    }
   ],
   "source": [
    "# shape 4 rows x 3 columns, you will get the first dimension which is 4\n",
    "print(len(array_4x3))"
   ]
  },
  {
   "cell_type": "markdown",
   "id": "55756939-8b9c-400f-be54-c500ac495375",
   "metadata": {},
   "source": [
    "#### **2. 3-D arrays**"
   ]
  },
  {
   "cell_type": "markdown",
   "id": "2d2bec7f-425e-4b5a-9259-66280f990cbd",
   "metadata": {},
   "source": [
    "In a NumPy array with the 3-D shape (3, 2, 4):\n",
    "<br>The (4) dimension represents the columns.\n",
    "<br>The (2) dimension represents the rows.\n",
    "<br>The (3) dimension represents the number of 2D arrays (or \"layers\") stacked along the first axis."
   ]
  },
  {
   "attachments": {},
   "cell_type": "markdown",
   "id": "4e399537-48e9-4fa2-a873-dc93d74da6ef",
   "metadata": {},
   "source": [
    "<center><img src=\"dimensions.jpg\" width=\"320\" height=\"320\"/><center>"
   ]
  },
  {
   "cell_type": "code",
   "execution_count": 28,
   "id": "21ee4c56-0662-4d18-83c3-bd78b0808fe9",
   "metadata": {},
   "outputs": [
    {
     "name": "stdout",
     "output_type": "stream",
     "text": [
      "[[[  3   2   5   4]\n",
      "  [  6   7   8   9]]\n",
      "\n",
      " [[ 12  23  62  57]\n",
      "  [ 14  55  86  74]]\n",
      "\n",
      " [[312 253 662 578]\n",
      "  [144 855 986 274]]]\n",
      "\n",
      "Shape:(3, 2, 4)\n"
     ]
    }
   ],
   "source": [
    "# The shape is: 3 layers of 2-D arrays each has 2 rows and 4 columns\n",
    "array_3x2x4 = np.array([\n",
    "    [[3, 2, 5, 4],\n",
    "     [6, 7, 8, 9]],\n",
    "\n",
    "    [[12, 23, 62, 57],\n",
    "     [14, 55, 86, 74]],\n",
    "    \n",
    "    [[312, 253, 662, 578],\n",
    "     [144, 855, 986, 274]]\n",
    "     \n",
    "],)\n",
    "\n",
    "print(array_3x2x4)\n",
    "print()\n",
    "print(f\"Shape:{array_3x2x4.shape}\")"
   ]
  },
  {
   "cell_type": "markdown",
   "id": "8db77168-ffb2-4b14-a456-898ca6914ddd",
   "metadata": {},
   "source": [
    "**Another 3-D array:**"
   ]
  },
  {
   "cell_type": "code",
   "execution_count": 29,
   "id": "ec345342-d5e1-4d3b-af30-1b8ec368502d",
   "metadata": {},
   "outputs": [
    {
     "name": "stdout",
     "output_type": "stream",
     "text": [
      "[[[ 3]\n",
      "  [ 7]\n",
      "  [ 8]]\n",
      "\n",
      " [[12]\n",
      "  [14]\n",
      "  [67]]]\n",
      "\n",
      "Shape:(2, 3, 1)\n"
     ]
    }
   ],
   "source": [
    "# The shape is: 2 layers of 1-D arrays each has 3 rows and 1 columns\n",
    "array_2x3x1 = np.array([\n",
    "    [[3],\n",
    "     [7],\n",
    "     [8]],\n",
    "\n",
    "    [[12],\n",
    "     [14],\n",
    "     [67]],\n",
    "     \n",
    "])\n",
    "\n",
    "print(array_2x3x1)\n",
    "print()\n",
    "print(f\"Shape:{array_2x3x1.shape}\")"
   ]
  },
  {
   "cell_type": "code",
   "execution_count": 30,
   "id": "7a47e6c6-d899-4839-9d8f-0f04e0f65e89",
   "metadata": {},
   "outputs": [
    {
     "name": "stdout",
     "output_type": "stream",
     "text": [
      "[[[ 3  7  8]]\n",
      "\n",
      " [[12 14 67]]]\n",
      "\n",
      "Shape:(2, 1, 3)\n"
     ]
    }
   ],
   "source": [
    "# The shape is: 2 layers of 1-D arrays each has 1 row and 3 columns\n",
    "array_2x1x3 = np.array([\n",
    "    [[3, 7, 8]],\n",
    "\n",
    "    [[12, 14, 67]],   \n",
    "])\n",
    "\n",
    "print(array_2x1x3)\n",
    "print()\n",
    "print(f\"Shape:{array_2x1x3.shape}\")"
   ]
  },
  {
   "cell_type": "markdown",
   "id": "b71fd9a3-041c-442d-a9ce-27cd9ca08cf1",
   "metadata": {},
   "source": [
    "**You can use the \"len\" function with 3-D array:**"
   ]
  },
  {
   "cell_type": "code",
   "execution_count": 31,
   "id": "cdf00451-69ae-4ef6-bc9c-3a05b3ca2b4c",
   "metadata": {},
   "outputs": [
    {
     "name": "stdout",
     "output_type": "stream",
     "text": [
      "3\n"
     ]
    }
   ],
   "source": [
    "# shape 3 x 2 x 4, you will get the first dimension which is 3\n",
    "print(len(array_3x2x4))"
   ]
  },
  {
   "cell_type": "code",
   "execution_count": 32,
   "id": "28bd6b4f-4e48-40c3-8a96-dd263655dfdf",
   "metadata": {},
   "outputs": [
    {
     "name": "stdout",
     "output_type": "stream",
     "text": [
      "2\n"
     ]
    }
   ],
   "source": [
    " # shape 2 x 1 x 3, you will get the first dimension which is 2\n",
    "print(len(array_2x1x3))"
   ]
  },
  {
   "cell_type": "code",
   "execution_count": null,
   "id": "26ab8577-5aa0-48c9-92a5-c99d51c77c42",
   "metadata": {},
   "outputs": [],
   "source": []
  }
 ],
 "metadata": {
  "kernelspec": {
   "display_name": "venvML",
   "language": "python",
   "name": "venvml"
  },
  "language_info": {
   "codemirror_mode": {
    "name": "ipython",
    "version": 3
   },
   "file_extension": ".py",
   "mimetype": "text/x-python",
   "name": "python",
   "nbconvert_exporter": "python",
   "pygments_lexer": "ipython3",
   "version": "3.12.2"
  }
 },
 "nbformat": 4,
 "nbformat_minor": 5
}
