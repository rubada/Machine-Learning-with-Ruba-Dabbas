{
 "cells": [
  {
   "cell_type": "markdown",
   "id": "01726d84-2f84-45f1-8304-c671e2431a79",
   "metadata": {},
   "source": [
    "### **2. \"unique()\" function:**\n",
    "This function returns the unique elements in an array."
   ]
  },
  {
   "cell_type": "markdown",
   "id": "04bb51d7-14fa-4591-a81d-8fb2bd51d871",
   "metadata": {},
   "source": [
    "#### **a. Returns a sorted array with unique elements without duplicates.**"
   ]
  },
  {
   "cell_type": "code",
   "execution_count": 1,
   "id": "04c0eb4b-03be-425b-a335-ad0aee6fbbda",
   "metadata": {},
   "outputs": [],
   "source": [
    "import numpy as np"
   ]
  },
  {
   "cell_type": "code",
   "execution_count": 2,
   "id": "f07d8c48-7c88-45b5-84ca-17df5795b881",
   "metadata": {},
   "outputs": [
    {
     "name": "stdout",
     "output_type": "stream",
     "text": [
      "['a' 'b' 'c' 'd' 'e' 'f']\n"
     ]
    }
   ],
   "source": [
    "array_1d = np.array([\"d\", \"c\", \"b\", \"f\", \"b\", \"c\", \"a\", \"b\", \"e\"])\n",
    "unique_elements_1D = np.unique(array_1d)\n",
    "\n",
    "print(unique_elements_1D)"
   ]
  },
  {
   "cell_type": "markdown",
   "id": "3e5a02af-2fd4-4f0f-aa90-37e7dfb013b9",
   "metadata": {},
   "source": [
    "#### **b. Returns the unique elements and their indices in the original array.**"
   ]
  },
  {
   "cell_type": "code",
   "execution_count": 3,
   "id": "03655890-9ec5-4f4a-8494-f193f55a9597",
   "metadata": {},
   "outputs": [
    {
     "name": "stdout",
     "output_type": "stream",
     "text": [
      "['a' 'b' 'c' 'd' 'e' 'f']\n",
      "[6 2 1 0 8 3]\n"
     ]
    }
   ],
   "source": [
    "array_1d = np.array([\"d\", \"c\", \"b\", \"f\", \"b\", \"c\", \"a\", \"b\", \"e\"])\n",
    "unique_elements_1D, unique_indices = np.unique(array_1d, return_index=True)\n",
    "\n",
    "print(unique_elements_1D)\n",
    "print(unique_indices)"
   ]
  },
  {
   "cell_type": "markdown",
   "id": "0e4ad67d-99b3-4ec6-8959-193a32059ea1",
   "metadata": {},
   "source": [
    "#### **c. Returns the unique elements and counts their repetition.**"
   ]
  },
  {
   "cell_type": "code",
   "execution_count": 4,
   "id": "ab3de167-14fb-4acf-bef6-556a08d360fa",
   "metadata": {},
   "outputs": [
    {
     "name": "stdout",
     "output_type": "stream",
     "text": [
      "['a' 'b' 'c' 'd' 'e' 'f']\n",
      "[1 3 2 1 1 1]\n"
     ]
    }
   ],
   "source": [
    "array_1d = np.array([\"d\", \"c\", \"b\", \"f\", \"b\", \"c\", \"a\", \"b\", \"e\"])\n",
    "unique_elements_1D, unique_counts = np.unique(array_1d, return_counts=True)\n",
    "\n",
    "print(unique_elements_1D)\n",
    "print(unique_counts)"
   ]
  },
  {
   "cell_type": "markdown",
   "id": "8aab6eb6-d980-4ec9-9928-97d06eec10c6",
   "metadata": {},
   "source": [
    "#### **d. Returns the unique elements and their inverse indices.**"
   ]
  },
  {
   "cell_type": "code",
   "execution_count": 5,
   "id": "7b58625c-1b39-49a1-9f0d-4718772ee001",
   "metadata": {},
   "outputs": [
    {
     "name": "stdout",
     "output_type": "stream",
     "text": [
      "['a' 'b' 'c' 'd' 'e' 'f']\n",
      "[3 2 1 5 1 2 0 1 4]\n"
     ]
    }
   ],
   "source": [
    "array_1d = np.array([\"d\", \"c\", \"b\", \"f\", \"b\", \"c\", \"a\", \"b\", \"e\"])\n",
    "unique_elements_1D, unique_indices = np.unique(array_1d, return_inverse=True)\n",
    "\n",
    "print(unique_elements_1D)\n",
    "print(unique_indices)"
   ]
  },
  {
   "cell_type": "markdown",
   "id": "2adfe088-6ffa-49b0-848a-21626390c69a",
   "metadata": {},
   "source": [
    "The first index 3, is the index of the \"d\" element in the unique array, and because the \"d\" index is 0 in the original array, the 3 is the first element in the inverse index array."
   ]
  },
  {
   "cell_type": "markdown",
   "id": "6be034ee-8002-4ea1-a801-e44958d621e4",
   "metadata": {},
   "source": [
    "This is used to reconstruct the original array by mapping the unique values to their occurrences in the original array if you don't have the original array.\n",
    "Such as data compression, if you're working with large arrays, storing unique values and inverse indices can reduce memory usage compared to storing the entire array, especially when there are many duplicate elements."
   ]
  },
  {
   "cell_type": "code",
   "execution_count": 6,
   "id": "a9124911-923c-4a00-b8a0-8bfde517f398",
   "metadata": {},
   "outputs": [
    {
     "name": "stdout",
     "output_type": "stream",
     "text": [
      "['d' 'c' 'b' 'f' 'b' 'c' 'a' 'b' 'e']\n"
     ]
    }
   ],
   "source": [
    "print(unique_elements_1D[unique_indices])"
   ]
  },
  {
   "cell_type": "markdown",
   "id": "9e063c2c-babf-4dc3-881e-9f982de23a26",
   "metadata": {},
   "source": [
    "### **\"unique_all() function:**\n",
    "This function returns all the above-mentioned parameters:"
   ]
  },
  {
   "cell_type": "code",
   "execution_count": 7,
   "id": "8c1b452d-fee1-4fe3-b878-2875218cfbc1",
   "metadata": {},
   "outputs": [
    {
     "name": "stdout",
     "output_type": "stream",
     "text": [
      "Sorted array with unique elements: ['a' 'b' 'c' 'd' 'e' 'f']\n",
      "Unique elements indexes in the original array [6 2 1 0 8 3]\n",
      "Count the unique elemenet in the original array. [1 3 2 1 1 1]\n",
      "Unique elemenet inverse indices in the original array. [3 2 1 5 1 2 0 1 4]\n"
     ]
    }
   ],
   "source": [
    "array_1d = np.array([\"d\", \"c\", \"b\", \"f\", \"b\", \"c\", \"a\", \"b\", \"e\"])\n",
    "unique_elements_1D = np.unique_all(array_1d)\n",
    "\n",
    "print(\"Sorted array with unique elements:\", unique_elements_1D.values)\n",
    "print(\"Unique elements indexes in the original array\", unique_elements_1D.indices)\n",
    "print(\"Count the unique elemenet in the original array.\", unique_elements_1D.counts)\n",
    "print(\"Unique elemenet inverse indices in the original array.\", unique_elements_1D.inverse_indices)"
   ]
  },
  {
   "cell_type": "markdown",
   "id": "df2c75f6-e8b0-4489-b2a9-14206c2e617f",
   "metadata": {},
   "source": [
    "### **\"unique_values() function:**\n",
    "This function returns the unique elements only."
   ]
  },
  {
   "cell_type": "code",
   "execution_count": 8,
   "id": "fd7494a2-e751-4c35-881d-2bd43724ee6b",
   "metadata": {},
   "outputs": [
    {
     "name": "stdout",
     "output_type": "stream",
     "text": [
      "Sorted array with unique elements: ['a' 'b' 'c' 'd' 'e' 'f']\n"
     ]
    }
   ],
   "source": [
    "array_1d = np.array([\"d\", \"c\", \"b\", \"f\", \"b\", \"c\", \"a\", \"b\", \"e\"])\n",
    "unique_elements_1D = np.unique_values(array_1d)\n",
    "\n",
    "print(\"Sorted array with unique elements:\", unique_elements_1D)"
   ]
  },
  {
   "cell_type": "markdown",
   "id": "3f90bd51-aa83-4647-b7c7-9f634e54b0de",
   "metadata": {},
   "source": [
    "### **\"unique\" function with 2-D arrays:**"
   ]
  },
  {
   "cell_type": "code",
   "execution_count": 9,
   "id": "5a4d9bf7-824c-4d67-96d5-1ecb752c0cbf",
   "metadata": {},
   "outputs": [
    {
     "name": "stdout",
     "output_type": "stream",
     "text": [
      "[2 3 4 5]\n"
     ]
    }
   ],
   "source": [
    "array_2x3 = np.array([[3, 4, 3],\n",
    "                     [4, 5, 2]])\n",
    "\n",
    "unique_elements_2x3 = np.unique(array_2x3)\n",
    "\n",
    "print(unique_elements_2x3)"
   ]
  },
  {
   "cell_type": "code",
   "execution_count": 10,
   "id": "d5d6fb5b-3a49-4f6c-96f6-6bf34f619821",
   "metadata": {},
   "outputs": [
    {
     "name": "stdout",
     "output_type": "stream",
     "text": [
      "[[1 0 0]\n",
      " [2 3 4]]\n"
     ]
    }
   ],
   "source": [
    "# Find unique rows:\n",
    "array_3x3 = np.array([[2, 3, 4],\n",
    "                      [1, 0, 0],\n",
    "                      [2, 3, 4]])\n",
    "unique_elements_3x3 = np.unique(array_3x3, axis=0)\n",
    "\n",
    "print(unique_elements_3x3)"
   ]
  },
  {
   "cell_type": "code",
   "execution_count": 11,
   "id": "18317711-2240-43ed-9ea6-afc8ccb9f845",
   "metadata": {},
   "outputs": [
    {
     "name": "stdout",
     "output_type": "stream",
     "text": [
      "[[2 4 5]\n",
      " [1 0 2]\n",
      " [2 4 5]]\n"
     ]
    }
   ],
   "source": [
    "# Find unique columns:\n",
    "array_3x4 = np.array([[2, 4, 4, 5],\n",
    "                      [1, 0, 0, 2],\n",
    "                      [2, 4, 4, 5]])\n",
    "unique_elements_3x4= np.unique(array_3x4, axis=1)\n",
    "\n",
    "print(unique_elements_3x4)"
   ]
  },
  {
   "cell_type": "markdown",
   "id": "fcd494f9-0c1f-4fac-8dd2-172fc38e31de",
   "metadata": {},
   "source": [
    "**The 3-D arrays are the same as the 2-D arrays, you can do the same steps we did above.\n",
    "<br> You can try it yourself.**"
   ]
  },
  {
   "cell_type": "code",
   "execution_count": null,
   "id": "6c11e225-c8f9-4eb4-ba2e-e0bc1a4ed8c1",
   "metadata": {},
   "outputs": [],
   "source": []
  }
 ],
 "metadata": {
  "kernelspec": {
   "display_name": "venvML",
   "language": "python",
   "name": "venvml"
  },
  "language_info": {
   "codemirror_mode": {
    "name": "ipython",
    "version": 3
   },
   "file_extension": ".py",
   "mimetype": "text/x-python",
   "name": "python",
   "nbconvert_exporter": "python",
   "pygments_lexer": "ipython3",
   "version": "3.12.2"
  }
 },
 "nbformat": 4,
 "nbformat_minor": 5
}
