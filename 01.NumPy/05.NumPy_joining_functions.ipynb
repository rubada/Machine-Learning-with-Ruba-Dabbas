{
 "cells": [
  {
   "cell_type": "markdown",
   "id": "cec3cbb5-26d4-408e-95a2-0ae99914ae10",
   "metadata": {},
   "source": [
    "### **NumPy Joining Arrays:**\n",
    "#### **1. \"concatenate()\" function:**\n",
    "To join multiple arrays we use the \"concatenate()\" function.\n",
    "<br>NumPy arrays are joined by the \"axis\" parameter in the \"concatenate()\" function.\n",
    "<br>Let's take an example:"
   ]
  },
  {
   "cell_type": "code",
   "execution_count": 1,
   "id": "52fc7696-395f-40d5-a7d5-9304f396b0b8",
   "metadata": {},
   "outputs": [],
   "source": [
    "import numpy as np"
   ]
  },
  {
   "cell_type": "markdown",
   "id": "726ed272-f729-4479-ad5c-1309883c24cd",
   "metadata": {},
   "source": [
    "##### **1-D arrays.**"
   ]
  },
  {
   "cell_type": "code",
   "execution_count": null,
   "id": "f9ae73c7-3d04-479d-8b19-727b3ecffb0a",
   "metadata": {},
   "outputs": [],
   "source": [
    "nums_one = np.array([66, 77, 88, 99, 100])\n",
    "nums_two = np.array([11, 22, 33, 44, 55, 98])\n",
    "\n",
    "nums_1d = np.concatenate((nums_one, nums_two))\n",
    "\n",
    "print(nums_1d)\n",
    "print(nums_1d.dtype)"
   ]
  },
  {
   "cell_type": "markdown",
   "id": "7249b41a-3dc9-4af8-8108-7c7c1ba7894b",
   "metadata": {},
   "source": [
    "##### **2-D arrays.**\n",
    "To join two 2-D arrays we use the \"axis\" parameter."
   ]
  },
  {
   "cell_type": "code",
   "execution_count": null,
   "id": "93706708-3ee4-4b29-8ae6-7436ce600464",
   "metadata": {},
   "outputs": [],
   "source": [
    "one_2x3 = np.array([[7, 1, 3],\n",
    "                    [4, 5, 6]])\n",
    "two_2x4 = np.array([[57, 72, 93, 88],\n",
    "                    [84, 45, 26, 66]])\n",
    "\n",
    "# when \"axis=1\" that means joining by rows:\n",
    "nums_2d_row = np.concatenate((one_2x3, two_2x4), axis=1)\n",
    "\n",
    "print(nums_2d_row)\n",
    "print(nums_2d_row.dtype)"
   ]
  },
  {
   "cell_type": "markdown",
   "id": "748a657a-4b62-4a65-bd7e-a942764c1be5",
   "metadata": {},
   "source": [
    "***Note: Joining arrays by row is possible when the arrays have the same row shapes.***"
   ]
  },
  {
   "cell_type": "code",
   "execution_count": null,
   "id": "ec3651b7-3223-4e9e-a74f-dd918e67a1d1",
   "metadata": {},
   "outputs": [],
   "source": [
    "one_2x3 = np.array([[7, 1, 3],\n",
    "                    [4, 5, 6]])\n",
    "two_3x2 = np.array([[57, 72],\n",
    "                    [84, 45],\n",
    "                    [93, 88],])\n",
    "\n",
    "nums_2d_row_not = np.concatenate((one_2x3, two_3x2), axis=1)\n",
    "\n",
    "print(nums_2d_row_not)"
   ]
  },
  {
   "cell_type": "markdown",
   "id": "81e1b61e-ab45-4dfd-85d9-2716da164f0d",
   "metadata": {},
   "source": [
    "***Note: Joining arrays by rows is not allowed when the arrays have different row shapes.***"
   ]
  },
  {
   "cell_type": "code",
   "execution_count": null,
   "id": "43fc22cb-471b-471d-a3d2-36a0c1ec3547",
   "metadata": {},
   "outputs": [],
   "source": [
    "# when \"axis=0\" that means joining by columns:\n",
    "one_2x3 = np.array([[7, 1, 3],\n",
    "                    [4, 5, 6]])\n",
    "two_3x3 = np.array([[57, 72, 88],\n",
    "                    [84, 45, 32],\n",
    "                    [93, 88, 65]])\n",
    "\n",
    "nums_2d_col = np.concatenate((one_2x3, two_3x3), axis=0)\n",
    "\n",
    "print(nums_2d_col)"
   ]
  },
  {
   "cell_type": "markdown",
   "id": "44d99953-9490-4045-8b05-0d6e00b2fd98",
   "metadata": {},
   "source": [
    "***Note: Joining arrays by columns is allowed when the arrays have the same column shapes.***"
   ]
  },
  {
   "cell_type": "code",
   "execution_count": null,
   "id": "c4f8bff5-6609-4fd0-b6ad-89ed4711393c",
   "metadata": {},
   "outputs": [],
   "source": [
    "one_2x3 = np.array([[7, 1, 3],\n",
    "                    [4, 5, 6]])\n",
    "two_3x2 = np.array([[57, 72],\n",
    "                    [84, 45],\n",
    "                    [93, 88]])\n",
    "\n",
    "nums_2d_col_not = np.concatenate((one_2x3, two_3x2), axis=0)\n",
    "\n",
    "print(nums_2d_col_not)"
   ]
  },
  {
   "cell_type": "markdown",
   "id": "05817b5d-ebdb-41cd-9b6b-ec8ee5357f68",
   "metadata": {},
   "source": [
    "***Note: Joining arrays by columns is not allowed when the arrays have different column shapes.***"
   ]
  },
  {
   "cell_type": "markdown",
   "id": "f1621041-9cfd-444a-a038-3ddb3a78debc",
   "metadata": {},
   "source": [
    "##### **3-D arrays.**\n",
    "To join multiple 3-D arrays, we use the \"axis\" parameter let's take an example:"
   ]
  },
  {
   "cell_type": "code",
   "execution_count": null,
   "id": "2502fa28-19ab-4a1d-8b6a-6e5c512b00e4",
   "metadata": {},
   "outputs": [],
   "source": [
    "arr1_2x2x2 = np.array([[[1, 2],\n",
    "                         [3, 4]],\n",
    "                         \n",
    "                        [[5, 6],\n",
    "                         [7, 8]]])\n",
    "\n",
    "arr2_2x2x2 = np.array([[[96, 100],\n",
    "                          [41, 16]],\n",
    "                         \n",
    "                         [[13, 34],\n",
    "                          [89, 21]]])\n",
    "\n",
    "# Concatenate along axis 0, will return 4 arrays in z dimension of size 2x2\n",
    "conc_axis_0 = np.concatenate((arr1_2x2x2, arr2_2x2x2), axis=0)\n",
    "print(\"Concatenate along axis 0:\\n\", conc_axis_0)\n",
    "print(\"Array shape:\", conc_axis_0.shape)"
   ]
  },
  {
   "cell_type": "code",
   "execution_count": null,
   "id": "3f5628d5-873a-4d5a-9e2a-f280aaf943c7",
   "metadata": {},
   "outputs": [],
   "source": [
    "# Concatenate along axis 1 will return 2 arrays in z dimension of size 4x2\n",
    "arr1_2x2x2 = np.array([[[1, 2],\n",
    "                         [3, 4]],\n",
    "                         \n",
    "                        [[5, 6],\n",
    "                         [7, 8]]])\n",
    "\n",
    "arr2_2x2x2 = np.array([[[96, 100],\n",
    "                          [41, 16]],\n",
    "                         \n",
    "                         [[13, 34],\n",
    "                          [89, 21]]])\n",
    "conc_axis_1 = np.concatenate((arr1_2x2x2, arr2_2x2x2), axis=1)\n",
    "\n",
    "print(\"\\nConcatenate along axis 1:\\n\", conc_axis_1)\n",
    "print(\"Array shape:\", conc_axis_1.shape)"
   ]
  },
  {
   "cell_type": "code",
   "execution_count": null,
   "id": "a07b67d2-134d-4e32-9599-5a233e0d7d33",
   "metadata": {},
   "outputs": [],
   "source": [
    "# Concatenate along axis 2 will return 2 arrays in z dimension of size 2x4\n",
    "arr1_2x2x2 = np.array([[[1, 2],\n",
    "                         [3, 4]],\n",
    "                         \n",
    "                        [[5, 6],\n",
    "                         [7, 8]]])\n",
    "\n",
    "arr2_2x2x2 = np.array([[[96, 100],\n",
    "                          [41, 16]],\n",
    "                         \n",
    "                         [[13, 34],\n",
    "                          [89, 21]]])\n",
    "\n",
    "conc_axis_2 = np.concatenate((arr1_2x2x2, arr2_2x2x2), axis=2)\n",
    "print(\"\\nConcatenate along axis 2:\\n\", conc_axis_2)\n",
    "print(\"Array shape:\", conc_axis_2.shape)"
   ]
  },
  {
   "cell_type": "markdown",
   "id": "9b9ca3ca-4443-477e-a2c4-79d0fad0f1a9",
   "metadata": {},
   "source": [
    "***Note: In 3-D arrays with different shapes, the arrays should have the same numbers of arrays in the 3rd dimension \"z\":***\n",
    "<br>***1. Joining arrays by row is possible when the arrays have the same row shapes, with different column shapes.***\n",
    "<br>***2. Joining arrays by columns is allowed when the arrays have the same column shapes, with different row shapes.***"
   ]
  },
  {
   "cell_type": "code",
   "execution_count": null,
   "id": "d915dfef-a352-4814-83b8-96c3b8cf028d",
   "metadata": {},
   "outputs": [],
   "source": [
    "arr1_2x2x2 = np.array([[[1, 2],\n",
    "                         [3, 4]],\n",
    "                         \n",
    "                        [[5, 6],\n",
    "                         [7, 8]]])\n",
    "\n",
    "arr2_3x2x2 = np.array([[[96, 100],\n",
    "                          [41, 16]],\n",
    "                         \n",
    "                         [[13, 34],\n",
    "                          [89, 21]],\n",
    "                       \n",
    "                        [[13, 34],\n",
    "                          [89, 21]],\n",
    "                      ])\n",
    "\n",
    "conc_axis_3 = np.concatenate((arr1_2x2x2, arr2_3x2x2), axis=0)\n",
    "print(\"\\nConcatenate along axis 2:\\n\", conc_axis_3)\n",
    "print(\"Array shape:\", conc_axis_3.shape)"
   ]
  },
  {
   "cell_type": "markdown",
   "id": "f2846473-d9a0-46c1-9b6d-e991f7439b6d",
   "metadata": {},
   "source": [
    "#### **2. \"stack()\" function:**\n",
    "Stacking is done along a new axis, creating a new dimension."
   ]
  },
  {
   "cell_type": "code",
   "execution_count": null,
   "id": "12e4fa08-dfb7-4342-b9b5-96b4043d268d",
   "metadata": {},
   "outputs": [],
   "source": [
    "# 1-D Arrays:\n",
    "nums_one = np.array([66, 77, 88, 99, 100])\n",
    "nums_two = np.array([11, 22, 33, 44, 55])\n",
    "\n",
    "nums_5x2 = np.stack((nums_one, nums_two), axis=1)\n",
    "\n",
    "print(nums_5x2)"
   ]
  },
  {
   "cell_type": "code",
   "execution_count": null,
   "id": "730eef2a-8b53-4b69-aca0-865af81622fb",
   "metadata": {},
   "outputs": [],
   "source": [
    "nums_2x5 = np.stack((nums_one, nums_two), axis=0)\n",
    "\n",
    "print(nums_2x5)"
   ]
  },
  {
   "cell_type": "markdown",
   "id": "8a3a3312-ce14-4c8f-b5a0-17c9ccfed42e",
   "metadata": {},
   "source": [
    "If the arrays have different shapes Python will raise a \"ValueError\" exception."
   ]
  },
  {
   "cell_type": "code",
   "execution_count": 3,
   "id": "5d506cf0-45cd-49bb-9f02-56086d87a40f",
   "metadata": {},
   "outputs": [
    {
     "name": "stdout",
     "output_type": "stream",
     "text": [
      "[[[ 7  1  3]\n",
      "  [ 4  5  6]]\n",
      "\n",
      " [[57 72 93]\n",
      "  [84 45 26]]]\n"
     ]
    }
   ],
   "source": [
    "# 2-D Arrays:\n",
    "one_2x3 = np.array([[7, 1, 3],\n",
    "                    [4, 5, 6]])\n",
    "two_2x3 = np.array([[57, 72, 93],\n",
    "                    [84, 45, 26]])\n",
    "\n",
    "# \"axis=0\" will create a new 3-D array with two arrays in the 3rd dimension, z-axis: \n",
    "nums_2x3x2 = np.stack((one_2x3, two_2x3), axis=0)\n",
    "print(nums_2x3x2)"
   ]
  },
  {
   "cell_type": "code",
   "execution_count": 4,
   "id": "a28341d5-f99e-41aa-9f50-481b40fc3c9c",
   "metadata": {},
   "outputs": [
    {
     "name": "stdout",
     "output_type": "stream",
     "text": [
      "[[[ 7  1  3]\n",
      "  [57 72 93]]\n",
      "\n",
      " [[ 4  5  6]\n",
      "  [84 45 26]]]\n"
     ]
    }
   ],
   "source": [
    "# \"axis=1\" will create a new 3-D array with two arrays in the 3rd dimension, z-axis,\n",
    "# the arrays are created from each row of each array, respectively:\n",
    "nums_2x2x3_row = np.stack((one_2x3, two_2x3), axis=1)\n",
    "print(nums_2x2x3_row)"
   ]
  },
  {
   "cell_type": "code",
   "execution_count": 5,
   "id": "516cf878-5eac-435d-a236-e0a2493008f4",
   "metadata": {},
   "outputs": [
    {
     "name": "stdout",
     "output_type": "stream",
     "text": [
      "[[[ 7 57]\n",
      "  [ 1 72]\n",
      "  [ 3 93]]\n",
      "\n",
      " [[ 4 84]\n",
      "  [ 5 45]\n",
      "  [ 6 26]]]\n"
     ]
    }
   ],
   "source": [
    "# \"axis=1\" will create a new 3-D array with two arrays in the 3rd dimension, z-axis,\n",
    "# the arrays are created from each row of each array, respectively,\n",
    "# and then changed to a column:\n",
    "nums_2x3x2_col = np.stack((one_2x3, two_2x3), axis=2)\n",
    "print(nums_2x3x2_col)"
   ]
  },
  {
   "cell_type": "markdown",
   "id": "140632d9-a020-4b5d-a6b1-aa7ae83e70f7",
   "metadata": {},
   "source": [
    "##### **There are other stack functions:**"
   ]
  },
  {
   "cell_type": "code",
   "execution_count": 6,
   "id": "3c88efd5-9d28-4a1c-9273-f1cad1b9e24d",
   "metadata": {},
   "outputs": [
    {
     "name": "stdout",
     "output_type": "stream",
     "text": [
      "[[ 7  1  3 57 72 93]\n",
      " [ 4  5  6 84 45 26]]\n"
     ]
    }
   ],
   "source": [
    "# \"hstack()\" stacks along the rows, there is no \"axis\" parameter\n",
    "one_2x3 = np.array([[7, 1, 3],\n",
    "                    [4, 5, 6]])\n",
    "two_2x3 = np.array([[57, 72, 93],\n",
    "                    [84, 45, 26]])\n",
    "\n",
    "nums_hstack = np.hstack((one_2x3, two_2x3))\n",
    "print(nums_hstack)"
   ]
  },
  {
   "cell_type": "code",
   "execution_count": 7,
   "id": "323da0d9-6537-48e9-ac07-a39d38afb884",
   "metadata": {},
   "outputs": [
    {
     "name": "stdout",
     "output_type": "stream",
     "text": [
      "[[ 7  1  3]\n",
      " [ 4  5  6]\n",
      " [57 72 93]\n",
      " [84 45 26]]\n"
     ]
    }
   ],
   "source": [
    "# \"vstack()\" stacks along the columns, there is no \"axis\" parameter\n",
    "one_2x3 = np.array([[7, 1, 3],\n",
    "                    [4, 5, 6]])\n",
    "two_2x3 = np.array([[57, 72, 93],\n",
    "                    [84, 45, 26]])\n",
    "\n",
    "nums_vstack = np.vstack((one_2x3, two_2x3))\n",
    "print(nums_vstack)"
   ]
  },
  {
   "cell_type": "code",
   "execution_count": 8,
   "id": "f8c95539-da05-491c-ac4c-5922321318fd",
   "metadata": {},
   "outputs": [
    {
     "name": "stdout",
     "output_type": "stream",
     "text": [
      "[[[ 7 57]\n",
      "  [ 1 72]\n",
      "  [ 3 93]]\n",
      "\n",
      " [[ 4 84]\n",
      "  [ 5 45]\n",
      "  [ 6 26]]]\n"
     ]
    }
   ],
   "source": [
    "# \"dstack()\" stacks along the 3rd axis (depth, z-axis), there is no \"axis\" parameter\n",
    "one_2x3 = np.array([[7, 1, 3],\n",
    "                    [4, 5, 6]])\n",
    "two_2x3 = np.array([[57, 72, 93],\n",
    "                    [84, 45, 26]])\n",
    "\n",
    "nums_dstack = np.dstack((one_2x3, two_2x3))\n",
    "print(nums_dstack)"
   ]
  },
  {
   "cell_type": "code",
   "execution_count": null,
   "id": "791712ac-8baf-4fdf-b562-76fc9ebfbaa8",
   "metadata": {},
   "outputs": [],
   "source": []
  }
 ],
 "metadata": {
  "kernelspec": {
   "display_name": "venvML",
   "language": "python",
   "name": "python3"
  },
  "language_info": {
   "codemirror_mode": {
    "name": "ipython",
    "version": 3
   },
   "file_extension": ".py",
   "mimetype": "text/x-python",
   "name": "python",
   "nbconvert_exporter": "python",
   "pygments_lexer": "ipython3",
   "version": "3.12.2"
  }
 },
 "nbformat": 4,
 "nbformat_minor": 5
}
