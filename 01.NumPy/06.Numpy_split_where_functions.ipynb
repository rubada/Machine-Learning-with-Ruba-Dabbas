{
 "cells": [
  {
   "cell_type": "code",
   "execution_count": 1,
   "id": "86001c14-8e77-4144-9682-7a603f02f0dd",
   "metadata": {},
   "outputs": [],
   "source": [
    "import numpy as np"
   ]
  },
  {
   "cell_type": "markdown",
   "id": "a5dc30e5-50f2-43c0-a839-58bdfbc81a70",
   "metadata": {},
   "source": [
    "#### **1. \"split()\" function:**"
   ]
  },
  {
   "cell_type": "code",
   "execution_count": 2,
   "id": "9a301f29-af9e-4f47-957b-503acf25ebe6",
   "metadata": {},
   "outputs": [
    {
     "name": "stdout",
     "output_type": "stream",
     "text": [
      "Splitting into six arrays:\n",
      " [array([66, 77]), array([88, 99]), array([100,  11]), array([22, 33]), array([44, 55]), array([98, 12])]\n",
      "Splitting into three arrays:\n",
      " [array([66, 77, 88, 99]), array([100,  11,  22,  33]), array([44, 55, 98, 12])]\n"
     ]
    }
   ],
   "source": [
    "# 1-D arrays:\n",
    "nums = np.array([66, 77, 88, 99, 100, 11, 22, 33, 44, 55, 98, 12])\n",
    "\n",
    "# Spliting into six arrays:\n",
    "split_nums_six = np.split(nums, 6)\n",
    "\n",
    "# Spliting into three arrays:\n",
    "split_nums_three = np.split(nums, 3)\n",
    "\n",
    "print(\"Splitting into six arrays:\\n\", split_nums_six)\n",
    "print(\"Splitting into three arrays:\\n\", split_nums_three)"
   ]
  },
  {
   "cell_type": "code",
   "execution_count": 3,
   "id": "cc05f336-5e63-4cdb-a990-3dbb1fe68820",
   "metadata": {},
   "outputs": [
    {
     "name": "stdout",
     "output_type": "stream",
     "text": [
      "[100  11]\n"
     ]
    }
   ],
   "source": [
    "# To get arrays use indexing:\n",
    "print(split_nums_six[2])"
   ]
  },
  {
   "cell_type": "code",
   "execution_count": null,
   "id": "3eb71be3-8bc6-4c33-a2bb-c4cb2389ad56",
   "metadata": {},
   "outputs": [],
   "source": [
    "# 2-D arrays:\n",
    "array_4x3 = np.array([[57, 72, 88],\n",
    "                    [84, 45, 32],\n",
    "                    [93, 88, 65],\n",
    "                    [67, 21, 94]])\n",
    "\n",
    "# Spliting into two arrays:\n",
    "split_2d_two = np.split(array_4x3, 2, axis=0)\n",
    "\n",
    "print(\"Splitting into two arrays:\\n\", split_2d_two)\n",
    "print(split_2d_two[0].shape)"
   ]
  },
  {
   "cell_type": "code",
   "execution_count": null,
   "id": "185657a3-c630-4614-86fa-27e41c6d29bb",
   "metadata": {},
   "outputs": [],
   "source": [
    "array_3x3 = np.array([[57, 72, 88],\n",
    "                    [84, 45, 32],\n",
    "                    [93, 88, 65]])\n",
    "\n",
    "\n",
    "split_2d_three = np.split(array_3x3, 3, axis=1)\n",
    "\n",
    "print(\"Splitting into three arrays:\\n\", split_2d_three)\n",
    "print(split_2d_three[0].shape)"
   ]
  },
  {
   "cell_type": "code",
   "execution_count": null,
   "id": "df9b726b-53b1-4b3d-bd04-81381d717987",
   "metadata": {},
   "outputs": [],
   "source": [
    "# 3-D arrays:\n",
    "arr_2x2x4 = np.array([\n",
    "    [[96, 100, 4, 77],\n",
    "     [41, 16, 9, 12]],\n",
    "                      \n",
    "    [[13, 34, 43, 65],\n",
    "     [89, 21, 90,33]],\n",
    "                      \n",
    "    [[13, 34, 43, 65],\n",
    "     [89, 21, 90,33]]\n",
    "])\n",
    "\n",
    "# Spliting into three arrays, along the z-axis, axis=0 is the default axis:\n",
    "split_3d_three = np.split(arr_2x2x4, 3)\n",
    "\n",
    "print(\"Splitting into three arrays:\\n\", split_3d_three)\n",
    "print(split_3d_three[0].shape)"
   ]
  },
  {
   "cell_type": "code",
   "execution_count": null,
   "id": "0995739c-05b5-4548-9b24-eafab57794d8",
   "metadata": {},
   "outputs": [],
   "source": [
    "# Spliting into two arrays, along the rows, axis=1:\n",
    "arr_2x2x4 = np.array([\n",
    "    [[96, 100, 4, 77],\n",
    "     [41, 16, 9, 12]],\n",
    "                      \n",
    "    [[13, 34, 43, 65],\n",
    "     [89, 21, 90,33]],\n",
    "                      \n",
    "    [[13, 34, 43, 65],\n",
    "     [89, 21, 90,33]]\n",
    "])\n",
    "\n",
    "split_3d_two = np.split(arr_2x2x4, 2, axis=1)\n",
    "\n",
    "print(\"Splitting into three arrays:\\n\", split_3d_two)\n",
    "print(split_3d_two[0].shape)"
   ]
  },
  {
   "cell_type": "code",
   "execution_count": null,
   "id": "9a870f52-840d-40ef-bb41-c4cd38784f54",
   "metadata": {},
   "outputs": [],
   "source": [
    "# Spliting into 4 arrays, along the columns, axis=2:\n",
    "arr_2x2x4 = np.array([\n",
    "    [[96, 100, 4, 77],\n",
    "     [41, 16, 9, 12]],\n",
    "                      \n",
    "    [[13, 34, 43, 65],\n",
    "     [89, 21, 90,33]],\n",
    "                      \n",
    "    [[13, 34, 43, 65],\n",
    "     [89, 21, 90,33]]\n",
    "])\n",
    "\n",
    "split_3d_four = np.split(arr_2x2x4, 2, axis=2)\n",
    "\n",
    "print(\"Splitting into three arrays:\\n\", split_3d_four)\n",
    "print(split_3d_four[0].shape)"
   ]
  },
  {
   "cell_type": "markdown",
   "id": "e2771298-c1c7-4b26-89b1-f5c647664423",
   "metadata": {},
   "source": [
    "***Note:Similar to stack there are available, hsplit(), vsplit(), and dsplit().***"
   ]
  },
  {
   "cell_type": "markdown",
   "id": "09d86772-ac47-4eb6-8646-7b51aab1c5fe",
   "metadata": {},
   "source": [
    "#### **2. \"where()\" function:**\n",
    "The \"\"where()\" function is used to search for items in an array."
   ]
  },
  {
   "cell_type": "code",
   "execution_count": 2,
   "id": "b0e55b98-e6a4-4308-8ed3-ba01461df5cb",
   "metadata": {},
   "outputs": [
    {
     "name": "stdout",
     "output_type": "stream",
     "text": [
      "(array([0, 3]), array([2, 0]))\n"
     ]
    }
   ],
   "source": [
    "array_4x3 = np.array([[57, 72, 88],\n",
    "                    [84, 45, 32],\n",
    "                    [93, 43, 65],\n",
    "                    [88, 21, 89]])\n",
    "\n",
    "find_item_88= np.where(array_4x3 == 88)\n",
    "\n",
    "print(find_item_88)"
   ]
  },
  {
   "cell_type": "code",
   "execution_count": 3,
   "id": "dd1eabe7-1b3f-481a-8bf9-3ff41ad7c2f8",
   "metadata": {},
   "outputs": [
    {
     "name": "stdout",
     "output_type": "stream",
     "text": [
      "(array([2, 3]), array([0, 2]))\n"
     ]
    }
   ],
   "source": [
    "find_items_gt_88 = np.where(array_4x3 > 88)\n",
    "\n",
    "print(find_items_gt_88)"
   ]
  },
  {
   "cell_type": "markdown",
   "id": "522d30bf-5aed-4895-a1ec-0728c1959135",
   "metadata": {},
   "source": [
    "To get the items:"
   ]
  },
  {
   "cell_type": "code",
   "execution_count": 4,
   "id": "394ccdac-400f-49c7-a59c-d3676b0af335",
   "metadata": {},
   "outputs": [
    {
     "name": "stdout",
     "output_type": "stream",
     "text": [
      "[88 88]\n",
      "[93 89]\n"
     ]
    }
   ],
   "source": [
    "item_88 = array_4x3[find_item_88]\n",
    "items_gt_88 = array_4x3[find_items_gt_88]\n",
    "\n",
    "print(item_88)\n",
    "print(items_gt_88)"
   ]
  },
  {
   "cell_type": "markdown",
   "id": "1eff5695-f6fe-4b5f-91da-9435559c92ae",
   "metadata": {},
   "source": [
    "The first array is the indexes of the rows while the second is the indexes of the columns."
   ]
  },
  {
   "cell_type": "code",
   "execution_count": 5,
   "id": "18355d39-902c-42a4-92ef-fbf3ba9b5f3e",
   "metadata": {},
   "outputs": [
    {
     "name": "stdout",
     "output_type": "stream",
     "text": [
      "(array([0, 0, 1, 1, 3]), array([1, 2, 0, 2, 0]))\n",
      "[72 88 84 32 88]\n"
     ]
    }
   ],
   "source": [
    "array_4x3 = np.array([[57, 72, 88],\n",
    "                    [84, 45, 32],\n",
    "                    [93, 43, 65],\n",
    "                    [88, 21, 89]])\n",
    "\n",
    "even_numbers_indexes_2d = np.where(array_4x3%2 == 0)\n",
    "get_even_numbers_2d = array_4x3[even_numbers_indexes_2d]\n",
    "\n",
    "print(even_numbers_indexes_2d)\n",
    "print(get_even_numbers_2d)"
   ]
  },
  {
   "cell_type": "code",
   "execution_count": 6,
   "id": "62d5d238-2e0b-4062-a53a-4c08d622d762",
   "metadata": {},
   "outputs": [
    {
     "name": "stdout",
     "output_type": "stream",
     "text": [
      "(array([0, 0, 0, 1, 1, 1, 1, 1, 1, 2, 2, 2, 2, 2, 2]), array([0, 1, 1, 0, 0, 0, 1, 1, 1, 0, 0, 0, 1, 1, 1]), array([3, 0, 2, 0, 2, 3, 0, 1, 3, 0, 2, 3, 0, 1, 3]))\n",
      "[77 41  9 13 43 65 89 21 33 13 43 65 89 21 33]\n"
     ]
    }
   ],
   "source": [
    "arr_2x2x4 = np.array([\n",
    "    [[96, 100, 4, 77],\n",
    "     [41, 16, 9, 12]],\n",
    "                      \n",
    "    [[13, 34, 43, 65],\n",
    "     [89, 21, 90,33]],\n",
    "                      \n",
    "    [[13, 34, 43, 65],\n",
    "     [89, 21, 90,33]]\n",
    "])\n",
    "\n",
    "odd_numbers_indexes_3d = np.where(arr_2x2x4%2 != 0)\n",
    "get_odd_numbers_3d = arr_2x2x4[odd_numbers_indexes_3d]\n",
    "\n",
    "print(odd_numbers_indexes_3d)\n",
    "print(get_odd_numbers_3d)"
   ]
  },
  {
   "cell_type": "markdown",
   "id": "13a5e0ac-05e3-402b-82e5-18c930e31ac8",
   "metadata": {},
   "source": [
    "The first array is the (number of arrays) 3rd dimension indexes, the second is the indexes of the rows, and the third is the indexes of the columns."
   ]
  },
  {
   "cell_type": "markdown",
   "id": "4419a642-5467-420f-a06a-6e8632e80140",
   "metadata": {},
   "source": [
    "The same thing for the single dimension array:"
   ]
  },
  {
   "cell_type": "code",
   "execution_count": 7,
   "id": "33bc4e5e-7d21-4889-8b2b-e10f64f6e3be",
   "metadata": {},
   "outputs": [
    {
     "name": "stdout",
     "output_type": "stream",
     "text": [
      "(array([ 0,  1,  2,  3,  4, 10]),)\n",
      "[ 66  77  88  99 100  98]\n"
     ]
    }
   ],
   "source": [
    "# 1-D arrays:\n",
    "nums = np.array([66, 77, 88, 99, 100, 11, 22, 33, 44, 55, 98, 12])\n",
    "\n",
    "item_1_d_indexes = np.where(nums >= 66)\n",
    "get_1_d_items = nums[item_1_d_indexes]\n",
    "\n",
    "print(item_1_d_indexes)\n",
    "print(get_1_d_items)"
   ]
  },
  {
   "cell_type": "markdown",
   "id": "9089b388-d6fb-4786-9f4b-48ef6619a284",
   "metadata": {},
   "source": [
    "You can use \"where()\" function to replace items in array:"
   ]
  },
  {
   "cell_type": "code",
   "execution_count": 8,
   "id": "e9d95ea6-d584-40c0-bcd1-6a51bfb8269a",
   "metadata": {},
   "outputs": [
    {
     "name": "stdout",
     "output_type": "stream",
     "text": [
      "Original array: [ 66  77  88  99 100  11  22  33  44  55  98  12]\n",
      "Resultant array: [4 3 3 3 3 4 4 4 4 4 3 4]\n"
     ]
    }
   ],
   "source": [
    "nums = np.array([66, 77, 88, 99, 100, 11, 22, 33, 44, 55, 98, 12])\n",
    "\n",
    "# Use np.where to replace values\n",
    "# If the condition (value > 66) is true, replace with 3, otherwise, replace with 4, (if False)\n",
    "result = np.where(nums > 66, 3, 4)\n",
    "\n",
    "print(\"Original array:\", nums)\n",
    "print(\"Resultant array:\", result)"
   ]
  },
  {
   "cell_type": "markdown",
   "id": "70c16fd5-ea08-4a1b-bdad-4791dc161c1a",
   "metadata": {},
   "source": [
    "As shown above, when replacing items, you get the results directly; you don't get the indices arrays."
   ]
  },
  {
   "cell_type": "markdown",
   "id": "4b1f85a0-57aa-40e8-b1e7-9140b47f9fb5",
   "metadata": {},
   "source": [
    "When replacing a value, both values for true and false results should be added, if not an exception will be raised."
   ]
  },
  {
   "cell_type": "code",
   "execution_count": 10,
   "id": "19b9bcec-6124-4f2f-80dc-e6921aaf62a4",
   "metadata": {},
   "outputs": [
    {
     "name": "stdout",
     "output_type": "stream",
     "text": [
      "Original array: [ 66  77  88  99 100  11  22  33  44  55  98  12]\n",
      "Resultant array: [ 66 154 176 198 200  11  22  33  44  55 196  12]\n"
     ]
    }
   ],
   "source": [
    "nums = np.array([66, 77, 88, 99, 100, 11, 22, 33, 44, 55, 98, 12])\n",
    "\n",
    "# Keep items and change items, we do the following:\n",
    "# result = np.where(nums > 66, nums, nums*2)\n",
    "result = np.where(nums > 66, nums*2, nums)\n",
    "print(\"Original array:\", nums)\n",
    "print(\"Resultant array:\", result)"
   ]
  },
  {
   "cell_type": "code",
   "execution_count": 11,
   "id": "e4da8d6f-22c2-4515-93c5-ccf5b5f0937f",
   "metadata": {},
   "outputs": [
    {
     "name": "stdout",
     "output_type": "stream",
     "text": [
      "[[10  0  0  0]\n",
      " [10 11  1  1]\n",
      " [10 11 12  2]]\n"
     ]
    }
   ],
   "source": [
    "x = np.array([\n",
    "    [0],\n",
    "    [1],\n",
    "    [2]])\n",
    "\n",
    "y = np.array([[0, 1, 2, 3]])\n",
    "\n",
    "print(np.where(x < y, x, 10 + y))"
   ]
  },
  {
   "cell_type": "code",
   "execution_count": null,
   "id": "38c96d32-b911-4d40-9081-3d2233d8bd9e",
   "metadata": {},
   "outputs": [],
   "source": []
  }
 ],
 "metadata": {
  "kernelspec": {
   "display_name": "venvML",
   "language": "python",
   "name": "venvml"
  },
  "language_info": {
   "codemirror_mode": {
    "name": "ipython",
    "version": 3
   },
   "file_extension": ".py",
   "mimetype": "text/x-python",
   "name": "python",
   "nbconvert_exporter": "python",
   "pygments_lexer": "ipython3",
   "version": "3.12.2"
  }
 },
 "nbformat": 4,
 "nbformat_minor": 5
}
