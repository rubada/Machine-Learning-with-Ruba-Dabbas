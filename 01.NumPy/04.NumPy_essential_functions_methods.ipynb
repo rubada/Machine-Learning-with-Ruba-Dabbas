{
 "cells": [
  {
   "cell_type": "markdown",
   "id": "9db09341-40e1-45fb-92db-a818c85fdef7",
   "metadata": {},
   "source": [
    "### **\"copy()\" Method:**\n",
    "\"copy\" is used to copy an array and create a new array, it owns the data; any changes made to the original array will not change the copy.\n",
    "<br> The copy and the original arrays are different objects"
   ]
  },
  {
   "cell_type": "code",
   "execution_count": 1,
   "id": "94c259ce-ca97-4bff-9ffa-dd5536b174bd",
   "metadata": {},
   "outputs": [],
   "source": [
    "import numpy as np"
   ]
  },
  {
   "cell_type": "code",
   "execution_count": 2,
   "id": "56049076-e88e-4c97-8f11-936f04cdbf6a",
   "metadata": {},
   "outputs": [
    {
     "name": "stdout",
     "output_type": "stream",
     "text": [
      "[ 1 10  3  4  5  6  7  8  9]\n",
      "[ 1 20  3  4  5  6  7  8  9]\n"
     ]
    }
   ],
   "source": [
    "numbers = np.array([1, 2, 3, 4, 5, 6, 7, 8, 9])\n",
    "\n",
    "copy_numbers = numbers.copy()\n",
    "\n",
    "numbers[1] = 10\n",
    "copy_numbers[1] = 20\n",
    "\n",
    "print(numbers)\n",
    "print(copy_numbers)"
   ]
  },
  {
   "cell_type": "code",
   "execution_count": 3,
   "id": "1570fc35-30d5-4237-8780-532bdb13a4d8",
   "metadata": {
    "scrolled": true
   },
   "outputs": [
    {
     "name": "stdout",
     "output_type": "stream",
     "text": [
      "None\n",
      "None\n"
     ]
    }
   ],
   "source": [
    "# To check that the \"numbers\" and the \"copy_numbers\" own the data,\n",
    "# use the \"base\" object and it should return \"None\".\n",
    "# The \"base\" object checks if the memory is from another object.\n",
    "\n",
    "print(numbers.base)\n",
    "print(copy_numbers.base)"
   ]
  },
  {
   "cell_type": "markdown",
   "id": "cf71392e-0dae-4be6-803f-b01836fe1322",
   "metadata": {},
   "source": [
    "### **\"view()\" Method:**\n",
    "\"view\" is used to create a view of an array; it doesn't own the data, and any changes made to the original array will change the view.\n",
    "<br> The view and the original arrays share the same memory."
   ]
  },
  {
   "cell_type": "code",
   "execution_count": 4,
   "id": "1f3f995f-b720-40f0-b6fe-0b013ffff0c0",
   "metadata": {},
   "outputs": [
    {
     "name": "stdout",
     "output_type": "stream",
     "text": [
      "[  1  10 100   4   5   6   7   8   9]\n",
      "[  1  10 100   4   5   6   7   8   9]\n"
     ]
    }
   ],
   "source": [
    "nums = np.array([1, 2, 3, 4, 5, 6, 7, 8, 9])\n",
    "\n",
    "view_numbers = nums.view()\n",
    "\n",
    "nums[1] = 10\n",
    "view_numbers[2] = 100\n",
    "\n",
    "print(view_numbers)\n",
    "print(nums)"
   ]
  },
  {
   "cell_type": "code",
   "execution_count": 5,
   "id": "d276dfaf-0a51-4a54-809d-62470005366a",
   "metadata": {},
   "outputs": [
    {
     "name": "stdout",
     "output_type": "stream",
     "text": [
      "[  1  10 100   4   5   6   7   8   9]\n",
      "None\n"
     ]
    }
   ],
   "source": [
    "# Checking the \"base\":\n",
    "print(view_numbers.base)\n",
    "print(nums.base)"
   ]
  },
  {
   "cell_type": "markdown",
   "id": "6c4cf1c6-e267-40e6-9fea-d61d16dc6939",
   "metadata": {},
   "source": [
    "##### **Why do we use the \"view\" method?**\n",
    "Because the view and the original array share the same memory, creating a view is more efficient than creating a copy:"
   ]
  },
  {
   "cell_type": "code",
   "execution_count": 6,
   "id": "7daeda2a-4501-402b-9081-354c75becf96",
   "metadata": {},
   "outputs": [
    {
     "name": "stdout",
     "output_type": "stream",
     "text": [
      "int16\n",
      "int64\n"
     ]
    }
   ],
   "source": [
    "# If we want to create a different data type:\n",
    "num_int16 = nums.view(np.int16)\n",
    "print(num_int16.dtype)\n",
    "print(nums.dtype)"
   ]
  },
  {
   "cell_type": "code",
   "execution_count": 7,
   "id": "15abf7a3-6c97-4d7a-9d5f-ea0454de90b4",
   "metadata": {},
   "outputs": [
    {
     "name": "stdout",
     "output_type": "stream",
     "text": [
      "[  1  10 100   4   5   6   7   8   9]\n",
      "None\n"
     ]
    }
   ],
   "source": [
    "# Checking the \"base\":\n",
    "print(num_int16.base)\n",
    "print(nums.base)"
   ]
  },
  {
   "cell_type": "code",
   "execution_count": 8,
   "id": "15aa1c29-9ce6-4e43-bcd2-18b855ff9b5d",
   "metadata": {},
   "outputs": [
    {
     "name": "stdout",
     "output_type": "stream",
     "text": [
      "(3, 4)\n",
      "(4, 3)\n"
     ]
    }
   ],
   "source": [
    "# If we want to create different shapes:\n",
    "array_4x3 = np.array([[7, 72, 3],\n",
    "                      [4, 5, 6],\n",
    "                      [33, 8, 7],\n",
    "                      [21, 1, 0]])\n",
    "\n",
    "array_3x4 = array_4x3.view().T\n",
    "print(array_3x4.shape)\n",
    "print(array_4x3.shape)"
   ]
  },
  {
   "cell_type": "code",
   "execution_count": 9,
   "id": "c66b913e-1c66-41d2-8ffe-6396fa1faf22",
   "metadata": {},
   "outputs": [
    {
     "name": "stdout",
     "output_type": "stream",
     "text": [
      "None\n",
      "[[ 7 72  3]\n",
      " [ 4  5  6]\n",
      " [33  8  7]\n",
      " [21  1  0]]\n"
     ]
    }
   ],
   "source": [
    "# Checking the \"base\":\n",
    "print(array_4x3.base)\n",
    "print(array_3x4.base)"
   ]
  },
  {
   "cell_type": "markdown",
   "id": "41e8662c-8252-4c2d-b669-8102197f8832",
   "metadata": {},
   "source": [
    "### **\"reshape()\" Function:**"
   ]
  },
  {
   "cell_type": "markdown",
   "id": "9297a1df-e705-4b35-9f6c-b63f2a184ec7",
   "metadata": {},
   "source": [
    "The reshape function changes the shape of a NumPy array without changing its data.\n",
    "<br>It is commonly used to rearrange the data structure for compatibility with specific operations."
   ]
  },
  {
   "cell_type": "markdown",
   "id": "5bd4c6ed-1167-49f9-bac7-08f14bc6a470",
   "metadata": {},
   "source": [
    "##### **Reshape From 1-D to 2-D**\n",
    "<br> To change the a 1-D array to a 2-D array check the array length, then find the numbers that their multiplication is equal to the array length.\n",
    "    <br>In our example, then length is 10, I can have and array with:\n",
    "    <br>2 rows by 5 columns,\n",
    "    <br>5 rows by 2 columns,\n",
    "    <br>1 rows by 10 columns,\n",
    "    <br>10 rows by 1 columns,"
   ]
  },
  {
   "cell_type": "code",
   "execution_count": 10,
   "id": "a4a69b06-f4e5-49a5-a81e-fdee174316e7",
   "metadata": {},
   "outputs": [
    {
     "name": "stdout",
     "output_type": "stream",
     "text": [
      "[[ 1  2  3  4  5  6  7  8  9 10]]\n"
     ]
    }
   ],
   "source": [
    "array_1d = np.array([1, 2, 3, 4, 5, 6, 7, 8, 9, 10])\n",
    "\n",
    "# Reshape to 2-D array\n",
    "# array_2d = array_1d.reshape(2, 5)\n",
    "array_2d = array_1d.reshape(1, 10)\n",
    "\n",
    "print(array_2d)"
   ]
  },
  {
   "cell_type": "markdown",
   "id": "9905a954-e942-4f7b-a2b2-984084e90d5b",
   "metadata": {},
   "source": [
    "##### **Reshape From 1-D to 3-D**\n",
    "To reshape 1-D array to 3-D array:\n",
    "<br> 1. Determine the number of arrays in the 3rd dimension:\n",
    "    <br>For example example, we want 2 arrays.\n",
    "<br> 2. Get the length of the 1-D array and divide it by 2, which is the number of arrays in the 3rd dimension.\n",
    "    <br>In our example, 18/2 = 9.\n",
    "<br> 3. Get the result from step two and change it to rows and columns.\n",
    "    <br>In our example, I can have 3 rows by 3 columns, their multiplication equals 9.\n",
    "    <br>Or, I can have 9 rows by 1 column, or 1 row by 9 columns, their multiplication equals 9.    "
   ]
  },
  {
   "cell_type": "code",
   "execution_count": 11,
   "id": "60e7bdad-32a1-46f0-8d63-982f5e904a2a",
   "metadata": {},
   "outputs": [
    {
     "name": "stdout",
     "output_type": "stream",
     "text": [
      "[[[ 0  1  2  3  4  5  6  7  8]]\n",
      "\n",
      " [[ 9 10 11 12 13 14 15 16 17]]]\n"
     ]
    }
   ],
   "source": [
    "# Using the \"arange\" function with the \"reshape\" function\n",
    "array_1d_arange = np.arange(18)\n",
    "\n",
    "# Reshape to 3-D array\n",
    "array_2x3x3 = array_1d_arange.reshape(2, 3, 3)\n",
    "array_2x9x1 = array_1d_arange.reshape(2, 9, 1)\n",
    "array_2x1x9 = array_1d_arange.reshape(2, 1, 9)\n",
    "\n",
    "# print(array_2x3x3)\n",
    "# print(array_2x9x1)\n",
    "print(array_2x1x9)"
   ]
  },
  {
   "cell_type": "markdown",
   "id": "22bb2e80-9543-4184-a188-2babafe3d0f1",
   "metadata": {},
   "source": [
    "##### **To flatten the array:**"
   ]
  },
  {
   "cell_type": "code",
   "execution_count": 12,
   "id": "f30a8ae7-b846-4257-bbe3-e229ebb6a4ad",
   "metadata": {},
   "outputs": [
    {
     "name": "stdout",
     "output_type": "stream",
     "text": [
      "[1 2 3 4 5 6 7 8 9]\n"
     ]
    }
   ],
   "source": [
    "# A 2-D array:\n",
    "array_3x3 = np.array([\n",
    "    [1, 2, 3],\n",
    "    [4, 5, 6],\n",
    "    [7, 8, 9]])\n",
    "\n",
    "array_2d_flatten = array_3x3.reshape(-1)\n",
    "print(array_2d_flatten)"
   ]
  },
  {
   "cell_type": "code",
   "execution_count": 13,
   "id": "0c0640b3-bf79-43ab-9166-e765895765ce",
   "metadata": {},
   "outputs": [
    {
     "name": "stdout",
     "output_type": "stream",
     "text": [
      "[ 0  1  2  3  4  5  6  7  8  9 10 11 12 13 14 15 16 17]\n"
     ]
    }
   ],
   "source": [
    "# A 3-D array:\n",
    "array_2x3x3 = np.array([\n",
    "    [[ 0,  1,  2,],\n",
    "     [ 3,  4,  5,],\n",
    "     [ 6,  7,  8]],\n",
    "\n",
    "    [[ 9, 10, 11],\n",
    "     [12, 13, 14],\n",
    "     [15, 16, 17]]])\n",
    "                       \n",
    "array_3d_flatten = array_2x3x3.reshape(-1)\n",
    "print(array_3d_flatten)"
   ]
  },
  {
   "cell_type": "code",
   "execution_count": 14,
   "id": "98ad79c3-1146-4514-989c-e00397772bd7",
   "metadata": {},
   "outputs": [
    {
     "name": "stdout",
     "output_type": "stream",
     "text": [
      "[[ 0  1  2  3  4  5  6  7  8]\n",
      " [ 9 10 11 12 13 14 15 16 17]]\n",
      "(2, 9)\n"
     ]
    }
   ],
   "source": [
    "# You can use the -1 with any shape and NumPy will calculate the dimension:\n",
    "array_1d_arange = np.arange(18)\n",
    "\n",
    "array_2d = array_1d_arange.reshape(-1, 9)\n",
    "# array_2d = array_1d_arange.reshape(3, -1)\n",
    "print(array_2d)\n",
    "print(array_2d.shape)"
   ]
  },
  {
   "cell_type": "code",
   "execution_count": 15,
   "id": "7b422821-09b0-4ce0-a438-2603f24a7572",
   "metadata": {},
   "outputs": [
    {
     "name": "stdout",
     "output_type": "stream",
     "text": [
      "[[[ 0  1  2  3  4  5  6  7  8]]\n",
      "\n",
      " [[ 9 10 11 12 13 14 15 16 17]]]\n",
      "(2, 1, 9)\n"
     ]
    }
   ],
   "source": [
    "# You can use the -1 with any shape and NumPy will calculate the dimension:\n",
    "array_1d_arange = np.arange(18)\n",
    "\n",
    "# array_3d = array_1d_arange.reshape(2, -1, 3)\n",
    "# array_3d = array_1d_arange.reshape(2, 9, -1)\n",
    "array_3d = array_1d_arange.reshape(-1, 1, 9)\n",
    "print(array_3d)\n",
    "print(array_3d.shape)"
   ]
  },
  {
   "cell_type": "markdown",
   "id": "8e56aef3-c36d-4da6-ac85-b2d25c8873e4",
   "metadata": {},
   "source": [
    "Array flattening is used when you want to reshape a 2-D or 3-D array into different shapes:\n",
    "<br>1. Flatten the array to 1-D array\n",
    "<br>2. Use the \"reshape\" function to rearrange the array into a new shape."
   ]
  },
  {
   "cell_type": "code",
   "execution_count": 16,
   "id": "cb6a6eb1-79aa-4b0d-b0d0-37508e36d156",
   "metadata": {},
   "outputs": [
    {
     "name": "stdout",
     "output_type": "stream",
     "text": [
      "18\n"
     ]
    }
   ],
   "source": [
    "array_2x3x3 = np.array([\n",
    "    [[ 0,  1,  2,],\n",
    "     [ 3,  4,  5,],\n",
    "     [ 6,  7,  8]],\n",
    "\n",
    "    [[ 9, 10, 11],\n",
    "     [12, 13, 14],\n",
    "     [15, 16, 17]]])\n",
    "                       \n",
    "array_3d_flatten = array_2x3x3.reshape(-1)\n",
    "len_array_flat = len(array_3d_flatten)\n",
    "print(len_array_flat)"
   ]
  },
  {
   "cell_type": "code",
   "execution_count": 17,
   "id": "e25dd8b0-e4bc-4b80-bc4f-96b79072c102",
   "metadata": {},
   "outputs": [
    {
     "name": "stdout",
     "output_type": "stream",
     "text": [
      "[[ 0  1  2  3  4  5  6  7  8]\n",
      " [ 9 10 11 12 13 14 15 16 17]]\n"
     ]
    }
   ],
   "source": [
    "# Reshape the array into a 2-D array:\n",
    "array_2d_reshaped = array_3d_flatten.reshape(2, 9)\n",
    "\n",
    "print(array_2d_reshaped)"
   ]
  },
  {
   "cell_type": "markdown",
   "id": "dd5460d6-b115-4e25-a01a-0958a7886f9c",
   "metadata": {},
   "source": [
    "##### **Does the reshape return a view or a copy?**"
   ]
  },
  {
   "cell_type": "code",
   "execution_count": 18,
   "id": "f17cd86e-98b4-4944-aa89-18a0b22d7f35",
   "metadata": {},
   "outputs": [
    {
     "name": "stdout",
     "output_type": "stream",
     "text": [
      "[ 0  1  2  3  4  5  6  7  8  9 10 11 12 13 14 15 16 17]\n"
     ]
    }
   ],
   "source": [
    "#let's check out:\n",
    "array_1d_arange = np.arange(18)\n",
    "\n",
    "array_2x3x3 = array_1d_arange.reshape(2, -1, 3)\n",
    "print(array_2x3x3.base)"
   ]
  },
  {
   "cell_type": "markdown",
   "id": "993dffbf-7927-4fe2-b872-bb1da989015c",
   "metadata": {},
   "source": [
    "### **\"nditer()\" Function**\n",
    "To iterate through the items in a 2-D array or 3-D array you need a nested for loops:"
   ]
  },
  {
   "cell_type": "code",
   "execution_count": 19,
   "id": "29fcb904-1d6d-4edd-bfbd-1bbf95e67b80",
   "metadata": {},
   "outputs": [
    {
     "name": "stdout",
     "output_type": "stream",
     "text": [
      "0\n",
      "1\n",
      "3\n",
      "4\n",
      "9\n",
      "10\n",
      "12\n",
      "13\n"
     ]
    }
   ],
   "source": [
    "# Let's take an example:\n",
    "array_2x2x2 = np.array([\n",
    "    [[ 0,  1],\n",
    "     [ 3,  4]],\n",
    "\n",
    "    [[ 9, 10],\n",
    "     [12, 13]]\n",
    "])\n",
    "\n",
    "for array in array_2x2x2:\n",
    "    for row in array:\n",
    "        for num in row:\n",
    "            print(num)"
   ]
  },
  {
   "cell_type": "code",
   "execution_count": 20,
   "id": "1d00593a-ce3b-4059-a2e2-7494bf339eca",
   "metadata": {},
   "outputs": [
    {
     "name": "stdout",
     "output_type": "stream",
     "text": [
      "0\n",
      "1\n",
      "3\n",
      "4\n",
      "9\n",
      "10\n",
      "12\n",
      "13\n"
     ]
    }
   ],
   "source": [
    "# Using the \"nditer()\" function will make it simpler:\n",
    "for num in np.nditer(array_2x2x2):\n",
    "    print(num)"
   ]
  },
  {
   "cell_type": "code",
   "execution_count": null,
   "id": "af7689cb-4717-4ace-a972-aa609cdee989",
   "metadata": {},
   "outputs": [],
   "source": []
  }
 ],
 "metadata": {
  "kernelspec": {
   "display_name": "venvML",
   "language": "python",
   "name": "python3"
  },
  "language_info": {
   "codemirror_mode": {
    "name": "ipython",
    "version": 3
   },
   "file_extension": ".py",
   "mimetype": "text/x-python",
   "name": "python",
   "nbconvert_exporter": "python",
   "pygments_lexer": "ipython3",
   "version": "3.12.2"
  }
 },
 "nbformat": 4,
 "nbformat_minor": 5
}
