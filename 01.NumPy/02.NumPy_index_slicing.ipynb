{
 "cells": [
  {
   "cell_type": "markdown",
   "id": "59e5212d-dc85-4045-ac84-5365a954aa31",
   "metadata": {},
   "source": [
    "### **NumPy Indexes**:\n",
    "The same Python index rules apply to NumPy.\n",
    "<br> For more information about indexes start here:\n",
    "<br>https://youtu.be/e97_5Y_VMZk"
   ]
  },
  {
   "cell_type": "markdown",
   "id": "7f0667c4-350c-4323-b25a-d685ff30640f",
   "metadata": {},
   "source": [
    "#### **1-D Arrays:**"
   ]
  },
  {
   "cell_type": "code",
   "execution_count": 1,
   "id": "14798f6d-5e5b-4133-b98d-bd1e812c46dc",
   "metadata": {},
   "outputs": [],
   "source": [
    "import numpy as np"
   ]
  },
  {
   "cell_type": "code",
   "execution_count": null,
   "id": "8dec7e50-d286-4e4a-aca5-1c1bcf5e5c3c",
   "metadata": {},
   "outputs": [],
   "source": [
    "my_array = np.array([2, 6, 8, 4])\n",
    "\n",
    "print(my_array[0])\n",
    "print(my_array[3])"
   ]
  },
  {
   "cell_type": "markdown",
   "id": "a0e891d0-706c-4a3f-af2d-7d8fc4cbaf58",
   "metadata": {},
   "source": [
    "##### **Negative Indexing:**"
   ]
  },
  {
   "cell_type": "code",
   "execution_count": null,
   "id": "b78b3f86-cffd-4c6f-a90a-4815a7735e92",
   "metadata": {},
   "outputs": [],
   "source": [
    "print(my_array[-1])\n",
    "print(my_array[-4])"
   ]
  },
  {
   "cell_type": "markdown",
   "id": "cd2b27f1-3822-4093-8964-0b950454cb1a",
   "metadata": {},
   "source": [
    "We Can use the \"len\" function with NumPy:"
   ]
  },
  {
   "cell_type": "code",
   "execution_count": null,
   "id": "2c77e75f-69d1-447d-9d48-829d51896605",
   "metadata": {},
   "outputs": [],
   "source": [
    "print(len(my_array))"
   ]
  },
  {
   "cell_type": "markdown",
   "id": "c6411133-a4d7-427b-9e6b-f7d4a57bec57",
   "metadata": {},
   "source": [
    "#### **2-D Arrays:**\n",
    "In a 2-D array, the row index and the column index should be specified in the same square brackets:"
   ]
  },
  {
   "cell_type": "code",
   "execution_count": null,
   "id": "6b662152-71cc-4f93-a22e-cad0ad841c8d",
   "metadata": {},
   "outputs": [],
   "source": [
    "array_4x3 = np.array([[7, 72, 3],\n",
    "                      [4, 5, 6],\n",
    "                      [33, 8, 7],\n",
    "                      [21, 1, 0]])\n",
    "\n",
    "print(f\"The 1st element in the 1st row: {array_4x3[0, 0]}\")\n",
    "print(f\"The 2nd element in the 1st row: {array_4x3[0, 1]}\")\n",
    "print(f\"The 3rd element in the 2nd row: {array_4x3[1, 2]}\")\n",
    "print(f\"The 2nd element in the 4th row: {array_4x3[3, 1]}\")"
   ]
  },
  {
   "cell_type": "markdown",
   "id": "4bd65576-ed77-40d9-8006-988469712b9f",
   "metadata": {},
   "source": [
    "##### **Negative Indexing:**"
   ]
  },
  {
   "cell_type": "code",
   "execution_count": null,
   "id": "ee3c8709-8100-4f02-a3d4-e1afdb95b268",
   "metadata": {},
   "outputs": [],
   "source": [
    "array_4x3 = np.array([[7, 72, 3],\n",
    "                      [4, 5, 6],\n",
    "                      [33, 8, 7],\n",
    "                      [21, 1, 0]])\n",
    "\n",
    "print(f\"The 1st element in the 1st row: {array_4x3[-4, -3]}\")\n",
    "print(f\"The 2nd element in the 1st row: {array_4x3[-4, -2]}\")\n",
    "print(f\"The 3rd element in the 2nd row: {array_4x3[1, -1]}\")\n",
    "print(f\"The 2nd element in the 4th row: {array_4x3[-1, 1]}\")"
   ]
  },
  {
   "cell_type": "markdown",
   "id": "ec539c34-f1b5-461d-ac0c-307c823f476d",
   "metadata": {},
   "source": [
    "To find the length for the 2nd dimension use index with \"len()\" function:"
   ]
  },
  {
   "cell_type": "code",
   "execution_count": null,
   "id": "043f677d-232e-4c41-b273-6b3fe0774cd7",
   "metadata": {},
   "outputs": [],
   "source": [
    "array_4x3 = np.array([[7, 72, 3],\n",
    "                      [4, 5, 6],\n",
    "                      [33, 8, 7],\n",
    "                      [21, 1, 0]])\n",
    "\n",
    "# columns number\n",
    "print(len(array_4x3[0]))"
   ]
  },
  {
   "cell_type": "markdown",
   "id": "4ee915b0-0fd3-4ea5-9183-70cd7120f55e",
   "metadata": {},
   "source": [
    "#### **3-D Arrays:**\n",
    "In a 3-array, you should specify the 3rd dimension first, then the row, and then the column index:"
   ]
  },
  {
   "cell_type": "code",
   "execution_count": null,
   "id": "967569c9-09a9-4247-b7b0-ff63ed7f7832",
   "metadata": {},
   "outputs": [],
   "source": [
    "array_2x2x3 = np.array([\n",
    "    [[3, 2, 20],\n",
    "     [65, 40, 31]],\n",
    "\n",
    "    [[8, 9, 50],\n",
    "     [1, 4, 8]]\n",
    "     ])\n",
    "# print(array_2x2x3.shape)\n",
    "print(f\"The 1st element in the 1st row from the 1st array: {array_2x2x3[0, 0, 0]}\")\n",
    "print(f\"The 3rd element in the 2nd row from the 1st array: {array_2x2x3[0, 1, 2]}\")\n",
    "print()\n",
    "print(f\"The 2nd element in the 1st row from the 2nd array: {array_2x2x3[1, 0, 1]}\")\n",
    "print(f\"The 1st element in the 2nd row from the 2nd array: {array_2x2x3[1, 1, 0]}\")"
   ]
  },
  {
   "cell_type": "markdown",
   "id": "d3632ad2-4e18-49b4-baf5-57d4a8bab4f1",
   "metadata": {},
   "source": [
    "##### **Negative Indexing:**"
   ]
  },
  {
   "cell_type": "code",
   "execution_count": null,
   "id": "9444c730-907b-4753-af13-c272543de6b7",
   "metadata": {},
   "outputs": [],
   "source": [
    "array_2x2x3 = np.array([\n",
    "    [[3, 2, 20],\n",
    "     [65, 40, 31]],\n",
    "\n",
    "    [[8, 9, 50],\n",
    "     [1, 4, 8]]\n",
    "     ])\n",
    "\n",
    "print(f\"The 1st element in the 1st row from the 1st array: {array_2x2x3[-2, -2, -3]}\")\n",
    "print(f\"The 3rd element in the 2nd row from the 1st array: {array_2x2x3[0, 1, -1]}\")\n",
    "print()\n",
    "print(f\"The 2nd element in the 1st row from the 2nd array: {array_2x2x3[1, -2, -2]}\")\n",
    "print(f\"The 1st element in the 2nd row from the 2nd array:  {array_2x2x3[-1, 1, -3]}\")"
   ]
  },
  {
   "cell_type": "markdown",
   "id": "18f5025e-b1c7-41ae-9e54-d6a5a39e39ec",
   "metadata": {},
   "source": [
    "To find the length for the rows, and the columns, use index with \"len()\" function:"
   ]
  },
  {
   "cell_type": "code",
   "execution_count": null,
   "id": "68436be5-358e-40dc-9ef5-db1e2c935afa",
   "metadata": {},
   "outputs": [],
   "source": [
    "array_2x2x3 = np.array([\n",
    "    [[3, 2, 20],\n",
    "     [65, 40, 31]],\n",
    "\n",
    "    [[8, 9, 50],\n",
    "     [1, 4, 8]]\n",
    "     ])\n",
    "\n",
    "# Number of rows:\n",
    "print(\"Number of rows: \", len(array_2x2x3[0]))\n",
    "\n",
    "# Number of columns:\n",
    "print(\"Number of columns: \", len(array_2x2x3[1, 0]))"
   ]
  },
  {
   "cell_type": "code",
   "execution_count": null,
   "id": "11fff063-ab01-40bb-adcc-4e5daa685925",
   "metadata": {},
   "outputs": [],
   "source": [
    "print(array_2x2x3.shape)\n",
    "print(\"Number of arrays:\", array_2x2x3.shape[0])\n",
    "print(\"Number of rows: \", array_2x2x3.shape[1])\n",
    "print(\"Number of columns: \", array_2x2x3.shape[2])"
   ]
  },
  {
   "cell_type": "markdown",
   "id": "a49a169b-bcc7-438a-b77b-a4a735f56e18",
   "metadata": {},
   "source": [
    "### **NumPy Slicing**:\n",
    "The same Python slicing rules apply to NumPy.\n",
    "<br> For more information about slicing start here:\n",
    "<br>https://youtu.be/md8Cbk_sZIk\n",
    "<br> Slicing rules:\n",
    "<br>a. [start:stop]\n",
    "<br>b. [start:stop:step]"
   ]
  },
  {
   "cell_type": "markdown",
   "id": "0d698cdf-e538-46bc-ac72-cc843900fb52",
   "metadata": {},
   "source": [
    "#### **1-D Arrays:**"
   ]
  },
  {
   "cell_type": "code",
   "execution_count": null,
   "id": "b86933e5-116c-4644-b3b7-1f0eae289216",
   "metadata": {},
   "outputs": [],
   "source": [
    "my_array = np.array([2, 6, 8, 4, 9, 5, 1])\n",
    "\n",
    "print(my_array[0:3])\n",
    "print(my_array[2:5])\n",
    "print(f\"Copy array: {my_array[:]}\")\n",
    "print(f\"Use step: {my_array[1:7:2]}\")\n",
    "print(f\"reverse: {my_array[6:2:-1]}\")"
   ]
  },
  {
   "cell_type": "markdown",
   "id": "3d4e6eea-7134-4b49-abee-4bc6897f5e9b",
   "metadata": {},
   "source": [
    "##### **Negative Slicing:**"
   ]
  },
  {
   "cell_type": "code",
   "execution_count": null,
   "id": "2c0709c0-ee7a-42e3-8d53-8c6586930c95",
   "metadata": {},
   "outputs": [],
   "source": [
    "my_array = np.array([2, 6, 8, 4, 9, 5, 1])\n",
    "\n",
    "print(my_array[-7:-4])\n",
    "print(my_array[-5:-2])\n",
    "print(f\"Use step: {my_array[-7:-1:2]}\")\n",
    "print(f\"reverse: {my_array[-1:-5:-1]}\")"
   ]
  },
  {
   "cell_type": "markdown",
   "id": "e02f6c4a-5321-405c-83c2-a67b73714c87",
   "metadata": {},
   "source": [
    "#### **2-D Arrays:**\n",
    "In a 2-D array, you should specify the row that you want to slice, then do the column slicing:"
   ]
  },
  {
   "cell_type": "code",
   "execution_count": null,
   "id": "f0605abe-9d08-4b5a-9ffc-318c69b94c2c",
   "metadata": {},
   "outputs": [],
   "source": [
    "array_4x4 = np.array([[7, 72, 3, 68],\n",
    "                      [4, 5, 6, 24],\n",
    "                      [33, 8, 7, 59],\n",
    "                      [21, 1, 0, 9]])\n",
    "\n",
    "print(f\"Slicing data from the 1st row: {array_4x4[0, 1:3]}\")\n",
    "print(f\"Slicing all data from the 2nd row: {array_4x4[1, :]}\")\n",
    "print(f\"Slicig data with a step from the 3th row: {array_4x4[2, 0:3:2]}\")\n",
    "print(f\"Reverse the 4th row  {array_4x4[3, 3:0:-1]}\")"
   ]
  },
  {
   "cell_type": "markdown",
   "id": "ee7c0a39-6c79-4f52-9553-7b85074d49a8",
   "metadata": {},
   "source": [
    "##### **Negative Slicing:**"
   ]
  },
  {
   "cell_type": "code",
   "execution_count": null,
   "id": "8f1d1f2b-fd4c-4205-84e9-e947f783749f",
   "metadata": {},
   "outputs": [],
   "source": [
    "array_4x4 = np.array([[7, 72, 3, 68],\n",
    "                      [4, 5, 6, 24],\n",
    "                      [33, 8, 7, 59],\n",
    "                      [21, 1, 0, 9]])\n",
    "\n",
    "print(f\"Slicing data from the 1st row: {array_4x4[-4, -3:-1]}\")\n",
    "print(f\"Slicig data with a step from the 3th row: {array_4x4[2, -4:-1:2]}\")\n",
    "print(f\"Reverse the 4th row  {array_4x4[-1, -1:0:-1]}\")"
   ]
  },
  {
   "cell_type": "markdown",
   "id": "1c5d5749-5d51-4dea-a950-e509e763e704",
   "metadata": {},
   "source": [
    "#### **3-D Arrays:**\n",
    "In a 3-array, you should specify the dimension first, then the row, and then the column slicing:"
   ]
  },
  {
   "cell_type": "code",
   "execution_count": null,
   "id": "8d432cc0-8646-48f8-8be3-7901c0545a30",
   "metadata": {
    "scrolled": true
   },
   "outputs": [],
   "source": [
    "array_3x2x4 = np.array([\n",
    "    [[3, 2, 5, 4],\n",
    "     [6, 7, 8, 9]],\n",
    "\n",
    "    [[12, 23, 62, 57],\n",
    "     [14, 55, 86, 74]],\n",
    "    \n",
    "    [[312, 253, 662, 578],\n",
    "     [144, 855, 986, 274]]\n",
    "     \n",
    "],)\n",
    "\n",
    "# print(array_3x2x4.shape)\n",
    "print(f\"Slicing from the 1st row in the 1st array: {array_3x2x4[0, 0, 1:]}\")\n",
    "print(f\"Slicing from the 2nd row in the 1st array: {array_3x2x4[0, 1, 1:3]}\")\n",
    "print()\n",
    "print(f\"Slicing with a step from the 1st row in the 3rd array: {array_3x2x4[2, 0, 0:4:2]}\")\n",
    "print(f\"Reverse the 2nd row in the 3rd array: {array_3x2x4[2, 1, 3:1:-1]}\")"
   ]
  },
  {
   "cell_type": "markdown",
   "id": "7bc4be55-4839-4674-a641-cb5c54f8cc83",
   "metadata": {},
   "source": [
    "##### **Negative Slicing:**"
   ]
  },
  {
   "cell_type": "code",
   "execution_count": 4,
   "id": "21006ecd-bb20-41ea-a8d5-053aead72fc9",
   "metadata": {},
   "outputs": [
    {
     "name": "stdout",
     "output_type": "stream",
     "text": [
      "Slicing from the 1st row in the 1st array:[2 5 4]\n",
      "Slicing from the 2nd row in the 1st array: [7 8]\n",
      "\n",
      "Slicing with a step from the 1st row in the 3rd array: [312 662]\n",
      "Reverse the 2nd row in the 3rd array: [274 986]\n"
     ]
    }
   ],
   "source": [
    "array_3x2x4 = np.array([\n",
    "    [[3, 2, 5, 4],\n",
    "     [6, 7, 8, 9]],\n",
    "\n",
    "    [[12, 23, 62, 57],\n",
    "     [14, 55, 86, 74]],\n",
    "    \n",
    "    [[312, 253, 662, 578],\n",
    "     [144, 855, 986, 274]]\n",
    "     \n",
    "],)\n",
    "\n",
    "# print(array_3x2x4.shape)\n",
    "print(f\"Slicing from the 1st row in the 1st array:{array_3x2x4[0, 0, -3:]}\")\n",
    "print(f\"Slicing from the 2nd row in the 1st array: {array_3x2x4[0, 1, -3:-1]}\")\n",
    "print()\n",
    "print(f\"Slicing with a step from the 1st row in the 3rd array: {array_3x2x4[-1, -2, -4:-1:2]}\")\n",
    "print(f\"Reverse the 2nd row in the 3rd array: {array_3x2x4[-1, -1, -1:-3:-1]}\")"
   ]
  },
  {
   "cell_type": "code",
   "execution_count": null,
   "id": "a5672dca-de67-4317-9d93-dd6fccd52c87",
   "metadata": {},
   "outputs": [],
   "source": []
  }
 ],
 "metadata": {
  "kernelspec": {
   "display_name": "venvML",
   "language": "python",
   "name": "venvml"
  },
  "language_info": {
   "codemirror_mode": {
    "name": "ipython",
    "version": 3
   },
   "file_extension": ".py",
   "mimetype": "text/x-python",
   "name": "python",
   "nbconvert_exporter": "python",
   "pygments_lexer": "ipython3",
   "version": "3.12.2"
  }
 },
 "nbformat": 4,
 "nbformat_minor": 5
}
