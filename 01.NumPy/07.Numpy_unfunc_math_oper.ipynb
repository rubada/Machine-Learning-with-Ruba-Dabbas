{
 "cells": [
  {
   "cell_type": "markdown",
   "id": "d0300fbc-e4ab-4e8c-8f39-bc7b4b8516d3",
   "metadata": {},
   "source": [
    "### **\"ufunc\" in NumPy:**\n",
    "\"ufunc\" stands for universal functions, which are NumPy functions that operate on the n-D array object.\n",
    "<br> Let's take an example:"
   ]
  },
  {
   "cell_type": "markdown",
   "id": "71b4e6a8-e6a2-45dd-97ef-e434ac5803b6",
   "metadata": {},
   "source": [
    "#### **1. Mathematical functions:**\n",
    "There are many mathematical functions in NumPy, such as:\n",
    "<br> 1. Trigonometric functions, such as: \"sin\", \"cos\", \"tan\", etc.\n",
    "<br> 2. Rounding functions, such as: \"round\", \"around\", \"rint\", etc.\n",
    "<br> 3. Arithmetic operations, such as: \"add\", \"subtract\", \"divide\", etc. \n",
    "<br> 4. Sums, products, differences such as: \"sum\", \"prod\", \"diff\", etc.\n",
    "<br> 5. etc.\n",
    "<br> You can check out all the mathematical functions using this link:\n",
    "<br> https://numpy.org/doc/stable/reference/routines.math.html#mathematical-functions"
   ]
  },
  {
   "cell_type": "code",
   "execution_count": null,
   "id": "c3a30c0b-36ba-40ad-8e67-7367c1e961ca",
   "metadata": {},
   "outputs": [],
   "source": [
    "import numpy as np"
   ]
  },
  {
   "cell_type": "markdown",
   "id": "e67ab34a-cf35-451e-876d-20a914e31d34",
   "metadata": {},
   "source": [
    "As mentioned before, we can perform mathematical calculations in NumPy, element-wise."
   ]
  },
  {
   "cell_type": "code",
   "execution_count": null,
   "id": "142c9815-2a17-4a40-8983-eb21186142b0",
   "metadata": {},
   "outputs": [
    {
     "name": "stdout",
     "output_type": "stream",
     "text": [
      "[ 7  9 11 13 15]\n",
      "[ 7  9 11 13 15]\n"
     ]
    }
   ],
   "source": [
    "# In a 1-D array vectorized operations:\n",
    "nums_one = np.array([1, 2, 3, 4, 5])\n",
    "nums_two = np.array([6, 7, 8, 9, 10])\n",
    "\n",
    "# Using the \"add\" function:\n",
    "print(np.add(nums_one, nums_two))\n",
    "\n",
    "# It is the same as \"+\":\n",
    "print(nums_one + nums_two)"
   ]
  },
  {
   "cell_type": "code",
   "execution_count": null,
   "id": "c0436a51-40d9-4a73-9bb6-01f62c1b41e1",
   "metadata": {},
   "outputs": [
    {
     "name": "stdout",
     "output_type": "stream",
     "text": [
      "[[1 2 3]\n",
      " [4 5 0]]\n",
      "************\n",
      "[[ 6  7  8]\n",
      " [ 9 10  0]]\n",
      "************\n",
      "Results:\n",
      "************\n",
      "[[ 6 14 24]\n",
      " [36 50  0]]\n",
      "************\n",
      "[[ 6 14 24]\n",
      " [36 50  0]]\n"
     ]
    }
   ],
   "source": [
    "# In a 2-D array element-wise operations:\n",
    "nums_one_2D = np.array([1, 2, 3, 4, 5, 0]).reshape((2,3))\n",
    "nums_two_2D = np.array([6, 7, 8, 9, 10, 0]).reshape((2,3))\n",
    "\n",
    "print(nums_one_2D)\n",
    "print(\"************\")\n",
    "print(nums_two_2D)\n",
    "print(\"************\")\n",
    "# Using the \"add\" function:\n",
    "print(\"Results:\")\n",
    "print(\"************\")\n",
    "print(np.multiply(nums_one_2D, nums_two_2D))\n",
    "print(\"************\")\n",
    "# It is the same as \"*\":\n",
    "print(nums_one_2D * nums_two_2D)"
   ]
  },
  {
   "cell_type": "code",
   "execution_count": null,
   "id": "776ff54d-b2bf-403e-be6f-f4dfe7273bd1",
   "metadata": {},
   "outputs": [
    {
     "name": "stdout",
     "output_type": "stream",
     "text": [
      "Results:\n",
      "************\n",
      "120\n",
      "************\n",
      "16\n"
     ]
    }
   ],
   "source": [
    "# 1-D array using \"prod\" and \"sum\" functions:\n",
    "nums_one = np.array([1, 2, 3, 4, 5, 1])\n",
    "\n",
    "# Using the \"add\" function:\n",
    "print(\"Results:\")\n",
    "print(\"************\")\n",
    "\n",
    "# The prod function will return a scaler, the product of\n",
    "# all items in an array.\n",
    "print(np.prod(nums_one))\n",
    "print(\"************\")\n",
    "print(np.sum(nums_one))"
   ]
  },
  {
   "cell_type": "code",
   "execution_count": null,
   "id": "8a3a193e-cad9-4098-9baf-2667d38b4170",
   "metadata": {},
   "outputs": [
    {
     "name": "stdout",
     "output_type": "stream",
     "text": [
      "Results:\n",
      "************\n",
      "Axis = 1:  [ 120 3024]\n",
      "************\n",
      "Axis = 0:  [ 6 14 24 36  5]\n"
     ]
    }
   ],
   "source": [
    "# Use the \"prod\" function for the product over an axis:\n",
    "nums_one = np.array([1, 2, 3, 4, 5])\n",
    "nums_two = np.array([6, 7, 8, 9, 1])\n",
    "\n",
    "print(\"Results:\")\n",
    "print(\"************\")\n",
    "print(\"Axis = 1: \", np.prod([nums_one, nums_two], axis=1))\n",
    "print(\"************\")\n",
    "print(\"Axis = 0: \", np.prod([nums_one, nums_two], axis=0))"
   ]
  },
  {
   "cell_type": "code",
   "execution_count": null,
   "id": "452985aa-5231-417a-9798-fbdddcbb96b3",
   "metadata": {},
   "outputs": [],
   "source": []
  }
 ],
 "metadata": {
  "kernelspec": {
   "display_name": "venvML",
   "language": "python",
   "name": "venvml"
  },
  "language_info": {
   "codemirror_mode": {
    "name": "ipython",
    "version": 3
   },
   "file_extension": ".py",
   "mimetype": "text/x-python",
   "name": "python",
   "nbconvert_exporter": "python",
   "pygments_lexer": "ipython3",
   "version": "3.12.2"
  }
 },
 "nbformat": 4,
 "nbformat_minor": 5
}
