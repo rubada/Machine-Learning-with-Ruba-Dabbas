{
 "cells": [
  {
   "cell_type": "markdown",
   "id": "e6025123-16bf-4848-94a0-8d9579df4ad0",
   "metadata": {},
   "source": [
    "### **What is NumPy?**\n",
    "NumPy, short for Numerical Python, is a fundamental Python package for scientific computing.\n",
    "<br>It is a high-performance package for multidimensional array calculations."
   ]
  },
  {
   "cell_type": "markdown",
   "id": "6a9bd40e-7f64-4293-b6ac-5e262677faca",
   "metadata": {},
   "source": [
    "### **Why use NumPy?**\n",
    "Lists serve the purpose of arrays in Python but they are slow.\n",
    "<br>NumPy arrays are faster and provide \"ndarray\" multiple dimensions.\n",
    "<br>NumPy has many functions for \"ndarray\" calculations."
   ]
  },
  {
   "cell_type": "markdown",
   "id": "a9cbb3a3-c8fd-42c4-8133-a6ff1bd34de3",
   "metadata": {},
   "source": [
    "For more information about NumPy, check the below link:\n",
    "<br> https://numpy.org/doc/"
   ]
  },
  {
   "cell_type": "markdown",
   "id": "88ce6cef-5e60-4b6b-8c6d-dba2cecbdce0",
   "metadata": {},
   "source": [
    "To use NumPy the Package should be installed:\n",
    "<br>pip install numpy\n",
    "\n",
    "Then import NumPy, \"np\" is the common Numpy alias."
   ]
  },
  {
   "cell_type": "code",
   "execution_count": 1,
   "id": "f56a4d8e-3628-4517-b265-56ec1802242c",
   "metadata": {},
   "outputs": [],
   "source": [
    "import numpy as np"
   ]
  },
  {
   "cell_type": "markdown",
   "id": "d755e55d-93e4-4b3a-b9ba-3c3a1c885ad8",
   "metadata": {},
   "source": [
    "#### **1-D arrays:**"
   ]
  },
  {
   "cell_type": "code",
   "execution_count": 2,
   "id": "13939a47-fc17-46c8-b0ba-f4b6d17838eb",
   "metadata": {},
   "outputs": [
    {
     "data": {
      "text/plain": [
       "array([2, 3, 4])"
      ]
     },
     "execution_count": 2,
     "metadata": {},
     "output_type": "execute_result"
    }
   ],
   "source": [
    "# Creating an array from a list, which is a horizontal vector:\n",
    "my_array_list = np.array([2, 3, 4])\n",
    "\n",
    "my_array_list"
   ]
  },
  {
   "cell_type": "code",
   "execution_count": 3,
   "id": "5bb01aee-a8e8-47d5-af5e-c1b66fa54496",
   "metadata": {},
   "outputs": [
    {
     "name": "stdout",
     "output_type": "stream",
     "text": [
      "[2 3 4]\n",
      "<class 'numpy.ndarray'>\n",
      "(3,)\n"
     ]
    }
   ],
   "source": [
    "print(my_array_list)\n",
    "print(type(my_array_list))\n",
    "print(my_array_list.shape)"
   ]
  },
  {
   "cell_type": "code",
   "execution_count": 4,
   "id": "74769a66-7b6a-46fb-b4d0-23ff67c972c1",
   "metadata": {},
   "outputs": [
    {
     "name": "stdout",
     "output_type": "stream",
     "text": [
      "[2 3 4]\n",
      "<class 'numpy.ndarray'>\n",
      "(3,)\n"
     ]
    }
   ],
   "source": [
    "# Creating a 1-D array from a tuple, which is a horizontal vector:\n",
    "my_array_tuple = np.array((2, 3, 4))\n",
    "\n",
    "print(my_array_tuple)\n",
    "print(type(my_array_tuple))\n",
    "print(my_array_tuple.shape)"
   ]
  },
  {
   "cell_type": "code",
   "execution_count": 5,
   "id": "820ad846-7f97-41df-9a49-2edd60997dc7",
   "metadata": {},
   "outputs": [
    {
     "name": "stdout",
     "output_type": "stream",
     "text": [
      "[[2]\n",
      " [3]\n",
      " [6]]\n",
      "(3, 1)\n"
     ]
    }
   ],
   "source": [
    "# Creating a 1-D array, a vertical vector::\n",
    "one_column = np.array([[2], [3], [6]])\n",
    "\n",
    "print(one_column)\n",
    "print(one_column.shape)"
   ]
  },
  {
   "cell_type": "markdown",
   "id": "1aacb416-e6da-4383-a0e7-c93242b8c236",
   "metadata": {},
   "source": [
    "**You can use the \"len\" function with 1-D array:**"
   ]
  },
  {
   "cell_type": "code",
   "execution_count": 6,
   "id": "28593811-a000-43f6-814d-d30c7d13805b",
   "metadata": {},
   "outputs": [
    {
     "name": "stdout",
     "output_type": "stream",
     "text": [
      "3\n"
     ]
    }
   ],
   "source": [
    "# With a horizontal vector you will get the first dimension:\n",
    "print(len(my_array_tuple))"
   ]
  },
  {
   "cell_type": "code",
   "execution_count": 7,
   "id": "727882c3-f2ac-47af-b3f3-85119bd95fe4",
   "metadata": {},
   "outputs": [
    {
     "name": "stdout",
     "output_type": "stream",
     "text": [
      "3\n"
     ]
    }
   ],
   "source": [
    "# With a vertical vector you will get the first dimension:\n",
    "print(len(one_column))"
   ]
  },
  {
   "cell_type": "markdown",
   "id": "b71fd9a3-041c-442d-a9ce-27cd9ca08cf1",
   "metadata": {},
   "source": [
    "**You can use the \"len\" function with 3-D array:**"
   ]
  },
  {
   "cell_type": "code",
   "execution_count": null,
   "id": "26ab8577-5aa0-48c9-92a5-c99d51c77c42",
   "metadata": {},
   "outputs": [],
   "source": []
  }
 ],
 "metadata": {
  "kernelspec": {
   "display_name": "venvML",
   "language": "python",
   "name": "venvml"
  },
  "language_info": {
   "codemirror_mode": {
    "name": "ipython",
    "version": 3
   },
   "file_extension": ".py",
   "mimetype": "text/x-python",
   "name": "python",
   "nbconvert_exporter": "python",
   "pygments_lexer": "ipython3",
   "version": "3.12.2"
  }
 },
 "nbformat": 4,
 "nbformat_minor": 5
}
